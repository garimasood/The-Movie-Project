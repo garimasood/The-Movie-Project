{
 "cells": [
  {
   "cell_type": "code",
   "execution_count": 151,
   "metadata": {},
   "outputs": [],
   "source": [
    "import numpy as np\n",
    "import pandas as pd"
   ]
  },
  {
   "cell_type": "code",
   "execution_count": 152,
   "metadata": {},
   "outputs": [
    {
     "name": "stderr",
     "output_type": "stream",
     "text": [
      "C:\\Users\\samsu\\Anaconda3\\lib\\site-packages\\IPython\\core\\interactiveshell.py:2728: DtypeWarning: Columns (46) have mixed types. Specify dtype option on import or set low_memory=False.\n",
      "  interactivity=interactivity, compiler=compiler, result=result)\n"
     ]
    }
   ],
   "source": [
    "df = pd.read_csv(\"../Data Exploration and Preparation/master_data_with_imputed_budget_and_revenue.csv\")"
   ]
  },
  {
   "cell_type": "code",
   "execution_count": 153,
   "metadata": {},
   "outputs": [
    {
     "data": {
      "text/plain": [
       "Index(['movie_id', 'actor_1_gender', 'actor_2_gender', 'actor_3_gender',\n",
       "       'actor_4_gender', 'actor_5_gender', 'actor_1_name', 'actor_2_name',\n",
       "       'actor_3_name', 'actor_4_name', 'actor_5_name', 'director_gender',\n",
       "       'director_name', 'producer_gender', 'producer_name', 'casting_gender',\n",
       "       'casting_name', 'belongs_to_collection', 'genre_1', 'genre_2',\n",
       "       'genre_3', 'genre_4', 'production_company_1', 'production_company_2',\n",
       "       'production_company_3', 'production_country_1', 'production_country_2',\n",
       "       'production_country_3', 'spoken_language_1', 'spoken_language_2',\n",
       "       'spoken_language_3', 'adult', 'budget', 'homepage', 'imdb_id',\n",
       "       'original_language', 'original_title', 'overview', 'popularity',\n",
       "       'poster_path', 'release_date', 'revenue', 'runtime', 'status',\n",
       "       'tagline', 'title', 'video', 'vote_average', 'vote_count'],\n",
       "      dtype='object')"
      ]
     },
     "execution_count": 153,
     "metadata": {},
     "output_type": "execute_result"
    }
   ],
   "source": [
    "df.columns"
   ]
  },
  {
   "cell_type": "code",
   "execution_count": 154,
   "metadata": {},
   "outputs": [],
   "source": [
    "df.drop(['movie_id','actor_1_name','actor_2_name','actor_3_name','actor_4_name','actor_5_name','director_name','producer_name'\\\n",
    "         ,'casting_name','belongs_to_collection','genre_3', 'genre_4','production_company_1','production_company_2','production_company_3'\\\n",
    "         ,'spoken_language_1','spoken_language_2','spoken_language_3','homepage','imdb_id','original_title','overview'\\\n",
    "        ,'poster_path','release_date','runtime','status','tagline','title','video','production_company_1', 'production_company_2',\n",
    "       'production_company_3','production_country_2', 'production_country_3','original_language'],axis=1,inplace=True)"
   ]
  },
  {
   "cell_type": "code",
   "execution_count": 155,
   "metadata": {},
   "outputs": [
    {
     "data": {
      "text/plain": [
       "Index(['actor_1_gender', 'actor_2_gender', 'actor_3_gender', 'actor_4_gender',\n",
       "       'actor_5_gender', 'director_gender', 'producer_gender',\n",
       "       'casting_gender', 'genre_1', 'genre_2', 'production_country_1', 'adult',\n",
       "       'budget', 'popularity', 'revenue', 'vote_average', 'vote_count'],\n",
       "      dtype='object')"
      ]
     },
     "execution_count": 155,
     "metadata": {},
     "output_type": "execute_result"
    }
   ],
   "source": [
    "df.columns"
   ]
  },
  {
   "cell_type": "markdown",
   "metadata": {},
   "source": [
    "Let's only consider the movies for which both budget and revenue information is available."
   ]
  },
  {
   "cell_type": "code",
   "execution_count": 156,
   "metadata": {},
   "outputs": [],
   "source": [
    "df=df[(df['budget']!=0)&(df['revenue']!=0)]"
   ]
  },
  {
   "cell_type": "markdown",
   "metadata": {},
   "source": [
    "drop null rows"
   ]
  },
  {
   "cell_type": "code",
   "execution_count": 157,
   "metadata": {},
   "outputs": [],
   "source": [
    "df = df[pd.notnull(df['revenue'])]"
   ]
  },
  {
   "cell_type": "code",
   "execution_count": 158,
   "metadata": {},
   "outputs": [
    {
     "data": {
      "text/plain": [
       "(5654, 17)"
      ]
     },
     "execution_count": 158,
     "metadata": {},
     "output_type": "execute_result"
    }
   ],
   "source": [
    "df.shape"
   ]
  },
  {
   "cell_type": "markdown",
   "metadata": {},
   "source": [
    "Let's define a new column called success, which is 1 when revenue>budget else 0."
   ]
  },
  {
   "cell_type": "code",
   "execution_count": 159,
   "metadata": {},
   "outputs": [],
   "source": [
    "df['success'] = [1 if df.iloc[i,-3]>df.iloc[i,-5] else 0 for i in range(df.shape[0])]"
   ]
  },
  {
   "cell_type": "code",
   "execution_count": 160,
   "metadata": {},
   "outputs": [],
   "source": [
    "df['revenue'] = pd.qcut(df['revenue'],2,labels=False)"
   ]
  },
  {
   "cell_type": "code",
   "execution_count": 161,
   "metadata": {},
   "outputs": [],
   "source": [
    "df['budget'] = pd.qcut(df['budget'],2,labels=False)"
   ]
  },
  {
   "cell_type": "code",
   "execution_count": 162,
   "metadata": {},
   "outputs": [],
   "source": [
    "df['vote_count'] = pd.qcut(df['vote_count'],2,labels=False)"
   ]
  },
  {
   "cell_type": "code",
   "execution_count": 163,
   "metadata": {},
   "outputs": [],
   "source": [
    "df['vote_average'] = pd.qcut(df['vote_average'],2,labels=False)"
   ]
  },
  {
   "cell_type": "code",
   "execution_count": 164,
   "metadata": {},
   "outputs": [],
   "source": [
    "df['popularity'] = pd.qcut(df['popularity'],2,labels=False)"
   ]
  },
  {
   "cell_type": "code",
   "execution_count": 165,
   "metadata": {},
   "outputs": [],
   "source": [
    "df[['actor_1_gender','actor_2_gender','actor_3_gender','actor_4_gender','actor_5_gender','director_gender','producer_gender',\\\n",
    "    'casting_gender','budget','revenue']] = df[['actor_1_gender','actor_2_gender','actor_3_gender','actor_4_gender','actor_5_gender','director_gender','producer_gender',\\\n",
    "    'casting_gender','budget','revenue']].apply(pd.to_numeric)"
   ]
  },
  {
   "cell_type": "code",
   "execution_count": 166,
   "metadata": {},
   "outputs": [],
   "source": [
    "df.drop(['genre_1','genre_2','production_country_1','adult'],axis=1,inplace=True)"
   ]
  },
  {
   "cell_type": "code",
   "execution_count": 167,
   "metadata": {},
   "outputs": [],
   "source": [
    "df.drop(['actor_3_gender','actor_4_gender','actor_5_gender'],axis=1,inplace=True)"
   ]
  },
  {
   "cell_type": "code",
   "execution_count": 168,
   "metadata": {},
   "outputs": [
    {
     "data": {
      "text/html": [
       "<div>\n",
       "<style>\n",
       "    .dataframe thead tr:only-child th {\n",
       "        text-align: right;\n",
       "    }\n",
       "\n",
       "    .dataframe thead th {\n",
       "        text-align: left;\n",
       "    }\n",
       "\n",
       "    .dataframe tbody tr th {\n",
       "        vertical-align: top;\n",
       "    }\n",
       "</style>\n",
       "<table border=\"1\" class=\"dataframe\">\n",
       "  <thead>\n",
       "    <tr style=\"text-align: right;\">\n",
       "      <th></th>\n",
       "      <th>actor_1_gender</th>\n",
       "      <th>actor_2_gender</th>\n",
       "      <th>director_gender</th>\n",
       "      <th>producer_gender</th>\n",
       "      <th>casting_gender</th>\n",
       "      <th>budget</th>\n",
       "      <th>popularity</th>\n",
       "      <th>revenue</th>\n",
       "      <th>vote_average</th>\n",
       "      <th>vote_count</th>\n",
       "      <th>success</th>\n",
       "    </tr>\n",
       "  </thead>\n",
       "  <tbody>\n",
       "    <tr>\n",
       "      <th>0</th>\n",
       "      <td>2.0</td>\n",
       "      <td>2.0</td>\n",
       "      <td>2.0</td>\n",
       "      <td>1.0</td>\n",
       "      <td>NaN</td>\n",
       "      <td>1</td>\n",
       "      <td>1</td>\n",
       "      <td>1</td>\n",
       "      <td>1</td>\n",
       "      <td>1</td>\n",
       "      <td>1</td>\n",
       "    </tr>\n",
       "    <tr>\n",
       "      <th>1</th>\n",
       "      <td>2.0</td>\n",
       "      <td>2.0</td>\n",
       "      <td>2.0</td>\n",
       "      <td>2.0</td>\n",
       "      <td>0.0</td>\n",
       "      <td>1</td>\n",
       "      <td>1</td>\n",
       "      <td>1</td>\n",
       "      <td>1</td>\n",
       "      <td>1</td>\n",
       "      <td>1</td>\n",
       "    </tr>\n",
       "    <tr>\n",
       "      <th>2</th>\n",
       "      <td>2.0</td>\n",
       "      <td>2.0</td>\n",
       "      <td>2.0</td>\n",
       "      <td>NaN</td>\n",
       "      <td>NaN</td>\n",
       "      <td>1</td>\n",
       "      <td>1</td>\n",
       "      <td>1</td>\n",
       "      <td>1</td>\n",
       "      <td>0</td>\n",
       "      <td>1</td>\n",
       "    </tr>\n",
       "    <tr>\n",
       "      <th>3</th>\n",
       "      <td>1.0</td>\n",
       "      <td>1.0</td>\n",
       "      <td>2.0</td>\n",
       "      <td>0.0</td>\n",
       "      <td>NaN</td>\n",
       "      <td>0</td>\n",
       "      <td>0</td>\n",
       "      <td>1</td>\n",
       "      <td>0</td>\n",
       "      <td>0</td>\n",
       "      <td>1</td>\n",
       "    </tr>\n",
       "    <tr>\n",
       "      <th>4</th>\n",
       "      <td>2.0</td>\n",
       "      <td>1.0</td>\n",
       "      <td>2.0</td>\n",
       "      <td>1.0</td>\n",
       "      <td>NaN</td>\n",
       "      <td>0</td>\n",
       "      <td>1</td>\n",
       "      <td>0</td>\n",
       "      <td>0</td>\n",
       "      <td>0</td>\n",
       "      <td>0</td>\n",
       "    </tr>\n",
       "  </tbody>\n",
       "</table>\n",
       "</div>"
      ],
      "text/plain": [
       "   actor_1_gender  actor_2_gender  director_gender  producer_gender  \\\n",
       "0             2.0             2.0              2.0              1.0   \n",
       "1             2.0             2.0              2.0              2.0   \n",
       "2             2.0             2.0              2.0              NaN   \n",
       "3             1.0             1.0              2.0              0.0   \n",
       "4             2.0             1.0              2.0              1.0   \n",
       "\n",
       "   casting_gender  budget  popularity  revenue  vote_average  vote_count  \\\n",
       "0             NaN       1           1        1             1           1   \n",
       "1             0.0       1           1        1             1           1   \n",
       "2             NaN       1           1        1             1           0   \n",
       "3             NaN       0           0        1             0           0   \n",
       "4             NaN       0           1        0             0           0   \n",
       "\n",
       "   success  \n",
       "0        1  \n",
       "1        1  \n",
       "2        1  \n",
       "3        1  \n",
       "4        0  "
      ]
     },
     "execution_count": 168,
     "metadata": {},
     "output_type": "execute_result"
    }
   ],
   "source": [
    "df.head()"
   ]
  },
  {
   "cell_type": "code",
   "execution_count": 169,
   "metadata": {},
   "outputs": [],
   "source": [
    "df['actor_1_gender_is_female'] = [1 if df.iloc[i,0]==1 else 0 for i in range(df.shape[0])]"
   ]
  },
  {
   "cell_type": "code",
   "execution_count": 170,
   "metadata": {},
   "outputs": [],
   "source": [
    "df['actor_1_gender_is_male'] = [1 if df.iloc[i,0]==2 else 0 for i in range(df.shape[0])]"
   ]
  },
  {
   "cell_type": "code",
   "execution_count": 171,
   "metadata": {},
   "outputs": [],
   "source": [
    "df['actor_2_gender_is_female'] = [1 if df.iloc[i,1]==1 else 0 for i in range(df.shape[0])]"
   ]
  },
  {
   "cell_type": "code",
   "execution_count": 172,
   "metadata": {},
   "outputs": [],
   "source": [
    "df['actor_2_gender_is_male'] = [1 if df.iloc[i,1]==2 else 0 for i in range(df.shape[0])]"
   ]
  },
  {
   "cell_type": "code",
   "execution_count": 173,
   "metadata": {},
   "outputs": [],
   "source": [
    "df['director_gender_is_female'] = [1 if df.iloc[i,2]==1 else 0 for i in range(df.shape[0])]"
   ]
  },
  {
   "cell_type": "code",
   "execution_count": 174,
   "metadata": {},
   "outputs": [],
   "source": [
    "df['director_gender_is_male'] = [1 if df.iloc[i,2]==2 else 0 for i in range(df.shape[0])]"
   ]
  },
  {
   "cell_type": "code",
   "execution_count": 175,
   "metadata": {},
   "outputs": [],
   "source": [
    "df['producer_gender_is_female'] = [1 if df.iloc[i,3]==1 else 0 for i in range(df.shape[0])]"
   ]
  },
  {
   "cell_type": "code",
   "execution_count": 176,
   "metadata": {},
   "outputs": [],
   "source": [
    "df['producer_gender_is_male'] = [1 if df.iloc[i,3]==2 else 0 for i in range(df.shape[0])]"
   ]
  },
  {
   "cell_type": "code",
   "execution_count": 177,
   "metadata": {},
   "outputs": [],
   "source": [
    "df['casting_lead_gender_is_female'] = [1 if df.iloc[i,4]==1 else 0 for i in range(df.shape[0])]"
   ]
  },
  {
   "cell_type": "code",
   "execution_count": 178,
   "metadata": {},
   "outputs": [],
   "source": [
    "df['casting_lead_gender_is_male'] = [1 if df.iloc[i,4]==2 else 0 for i in range(df.shape[0])]"
   ]
  },
  {
   "cell_type": "code",
   "execution_count": 179,
   "metadata": {},
   "outputs": [],
   "source": [
    "df.drop(['actor_1_gender','actor_2_gender','director_gender','producer_gender','casting_gender','casting_lead_gender_is_female'],axis=1,inplace=True)"
   ]
  },
  {
   "cell_type": "code",
   "execution_count": 180,
   "metadata": {},
   "outputs": [
    {
     "data": {
      "text/plain": [
       "Index(['budget', 'popularity', 'revenue', 'vote_average', 'vote_count',\n",
       "       'success', 'actor_1_gender_is_female', 'actor_1_gender_is_male',\n",
       "       'actor_2_gender_is_female', 'actor_2_gender_is_male',\n",
       "       'director_gender_is_female', 'director_gender_is_male',\n",
       "       'producer_gender_is_female', 'producer_gender_is_male',\n",
       "       'casting_lead_gender_is_male'],\n",
       "      dtype='object')"
      ]
     },
     "execution_count": 180,
     "metadata": {},
     "output_type": "execute_result"
    }
   ],
   "source": [
    "df.columns"
   ]
  },
  {
   "cell_type": "code",
   "execution_count": 181,
   "metadata": {},
   "outputs": [
    {
     "data": {
      "text/html": [
       "<div>\n",
       "<style>\n",
       "    .dataframe thead tr:only-child th {\n",
       "        text-align: right;\n",
       "    }\n",
       "\n",
       "    .dataframe thead th {\n",
       "        text-align: left;\n",
       "    }\n",
       "\n",
       "    .dataframe tbody tr th {\n",
       "        vertical-align: top;\n",
       "    }\n",
       "</style>\n",
       "<table border=\"1\" class=\"dataframe\">\n",
       "  <thead>\n",
       "    <tr style=\"text-align: right;\">\n",
       "      <th></th>\n",
       "      <th>budget</th>\n",
       "      <th>popularity</th>\n",
       "      <th>revenue</th>\n",
       "      <th>vote_average</th>\n",
       "      <th>vote_count</th>\n",
       "      <th>success</th>\n",
       "      <th>actor_1_gender_is_female</th>\n",
       "      <th>actor_1_gender_is_male</th>\n",
       "      <th>actor_2_gender_is_female</th>\n",
       "      <th>actor_2_gender_is_male</th>\n",
       "      <th>director_gender_is_female</th>\n",
       "      <th>director_gender_is_male</th>\n",
       "      <th>producer_gender_is_female</th>\n",
       "      <th>producer_gender_is_male</th>\n",
       "      <th>casting_lead_gender_is_male</th>\n",
       "    </tr>\n",
       "  </thead>\n",
       "  <tbody>\n",
       "    <tr>\n",
       "      <th>0</th>\n",
       "      <td>1</td>\n",
       "      <td>1</td>\n",
       "      <td>1</td>\n",
       "      <td>1</td>\n",
       "      <td>1</td>\n",
       "      <td>1</td>\n",
       "      <td>0</td>\n",
       "      <td>1</td>\n",
       "      <td>0</td>\n",
       "      <td>1</td>\n",
       "      <td>0</td>\n",
       "      <td>1</td>\n",
       "      <td>1</td>\n",
       "      <td>0</td>\n",
       "      <td>0</td>\n",
       "    </tr>\n",
       "    <tr>\n",
       "      <th>1</th>\n",
       "      <td>1</td>\n",
       "      <td>1</td>\n",
       "      <td>1</td>\n",
       "      <td>1</td>\n",
       "      <td>1</td>\n",
       "      <td>1</td>\n",
       "      <td>0</td>\n",
       "      <td>1</td>\n",
       "      <td>0</td>\n",
       "      <td>1</td>\n",
       "      <td>0</td>\n",
       "      <td>1</td>\n",
       "      <td>0</td>\n",
       "      <td>1</td>\n",
       "      <td>0</td>\n",
       "    </tr>\n",
       "    <tr>\n",
       "      <th>2</th>\n",
       "      <td>1</td>\n",
       "      <td>1</td>\n",
       "      <td>1</td>\n",
       "      <td>1</td>\n",
       "      <td>0</td>\n",
       "      <td>1</td>\n",
       "      <td>0</td>\n",
       "      <td>1</td>\n",
       "      <td>0</td>\n",
       "      <td>1</td>\n",
       "      <td>0</td>\n",
       "      <td>1</td>\n",
       "      <td>0</td>\n",
       "      <td>0</td>\n",
       "      <td>0</td>\n",
       "    </tr>\n",
       "    <tr>\n",
       "      <th>3</th>\n",
       "      <td>0</td>\n",
       "      <td>0</td>\n",
       "      <td>1</td>\n",
       "      <td>0</td>\n",
       "      <td>0</td>\n",
       "      <td>1</td>\n",
       "      <td>1</td>\n",
       "      <td>0</td>\n",
       "      <td>1</td>\n",
       "      <td>0</td>\n",
       "      <td>0</td>\n",
       "      <td>1</td>\n",
       "      <td>0</td>\n",
       "      <td>0</td>\n",
       "      <td>0</td>\n",
       "    </tr>\n",
       "    <tr>\n",
       "      <th>4</th>\n",
       "      <td>0</td>\n",
       "      <td>1</td>\n",
       "      <td>0</td>\n",
       "      <td>0</td>\n",
       "      <td>0</td>\n",
       "      <td>0</td>\n",
       "      <td>0</td>\n",
       "      <td>1</td>\n",
       "      <td>1</td>\n",
       "      <td>0</td>\n",
       "      <td>0</td>\n",
       "      <td>1</td>\n",
       "      <td>1</td>\n",
       "      <td>0</td>\n",
       "      <td>0</td>\n",
       "    </tr>\n",
       "  </tbody>\n",
       "</table>\n",
       "</div>"
      ],
      "text/plain": [
       "   budget  popularity  revenue  vote_average  vote_count  success  \\\n",
       "0       1           1        1             1           1        1   \n",
       "1       1           1        1             1           1        1   \n",
       "2       1           1        1             1           0        1   \n",
       "3       0           0        1             0           0        1   \n",
       "4       0           1        0             0           0        0   \n",
       "\n",
       "   actor_1_gender_is_female  actor_1_gender_is_male  actor_2_gender_is_female  \\\n",
       "0                         0                       1                         0   \n",
       "1                         0                       1                         0   \n",
       "2                         0                       1                         0   \n",
       "3                         1                       0                         1   \n",
       "4                         0                       1                         1   \n",
       "\n",
       "   actor_2_gender_is_male  director_gender_is_female  director_gender_is_male  \\\n",
       "0                       1                          0                        1   \n",
       "1                       1                          0                        1   \n",
       "2                       1                          0                        1   \n",
       "3                       0                          0                        1   \n",
       "4                       0                          0                        1   \n",
       "\n",
       "   producer_gender_is_female  producer_gender_is_male  \\\n",
       "0                          1                        0   \n",
       "1                          0                        1   \n",
       "2                          0                        0   \n",
       "3                          0                        0   \n",
       "4                          1                        0   \n",
       "\n",
       "   casting_lead_gender_is_male  \n",
       "0                            0  \n",
       "1                            0  \n",
       "2                            0  \n",
       "3                            0  \n",
       "4                            0  "
      ]
     },
     "execution_count": 181,
     "metadata": {},
     "output_type": "execute_result"
    }
   ],
   "source": [
    "df.head()"
   ]
  },
  {
   "cell_type": "code",
   "execution_count": 182,
   "metadata": {},
   "outputs": [],
   "source": [
    "from mlxtend.frequent_patterns import apriori\n",
    "from mlxtend.frequent_patterns import association_rules"
   ]
  },
  {
   "cell_type": "code",
   "execution_count": 183,
   "metadata": {},
   "outputs": [],
   "source": [
    "frequent_itemsets = apriori(df, min_support=0.07, use_colnames=True)"
   ]
  },
  {
   "cell_type": "code",
   "execution_count": 184,
   "metadata": {},
   "outputs": [],
   "source": [
    "rules = association_rules(frequent_itemsets, metric=\"lift\", min_threshold=1)"
   ]
  },
  {
   "cell_type": "code",
   "execution_count": 185,
   "metadata": {},
   "outputs": [
    {
     "data": {
      "text/html": [
       "<div>\n",
       "<style>\n",
       "    .dataframe thead tr:only-child th {\n",
       "        text-align: right;\n",
       "    }\n",
       "\n",
       "    .dataframe thead th {\n",
       "        text-align: left;\n",
       "    }\n",
       "\n",
       "    .dataframe tbody tr th {\n",
       "        vertical-align: top;\n",
       "    }\n",
       "</style>\n",
       "<table border=\"1\" class=\"dataframe\">\n",
       "  <thead>\n",
       "    <tr style=\"text-align: right;\">\n",
       "      <th></th>\n",
       "      <th>antecedants</th>\n",
       "      <th>consequents</th>\n",
       "      <th>support</th>\n",
       "      <th>confidence</th>\n",
       "      <th>lift</th>\n",
       "    </tr>\n",
       "  </thead>\n",
       "  <tbody>\n",
       "    <tr>\n",
       "      <th>51163</th>\n",
       "      <td>(vote_count, actor_1_gender_is_male, director_...</td>\n",
       "      <td>(vote_average, budget, success, producer_gende...</td>\n",
       "      <td>0.222320</td>\n",
       "      <td>0.353222</td>\n",
       "      <td>2.789269</td>\n",
       "    </tr>\n",
       "    <tr>\n",
       "      <th>51226</th>\n",
       "      <td>(vote_average, budget, success, producer_gende...</td>\n",
       "      <td>(vote_count, actor_1_gender_is_male, director_...</td>\n",
       "      <td>0.126636</td>\n",
       "      <td>0.620112</td>\n",
       "      <td>2.789269</td>\n",
       "    </tr>\n",
       "    <tr>\n",
       "      <th>46174</th>\n",
       "      <td>(actor_2_gender_is_male, vote_count, director_...</td>\n",
       "      <td>(vote_average, budget, success)</td>\n",
       "      <td>0.159356</td>\n",
       "      <td>0.469478</td>\n",
       "      <td>2.776601</td>\n",
       "    </tr>\n",
       "    <tr>\n",
       "      <th>46307</th>\n",
       "      <td>(vote_average, budget, success)</td>\n",
       "      <td>(actor_2_gender_is_male, vote_count, director_...</td>\n",
       "      <td>0.169084</td>\n",
       "      <td>0.442469</td>\n",
       "      <td>2.776601</td>\n",
       "    </tr>\n",
       "    <tr>\n",
       "      <th>51274</th>\n",
       "      <td>(actor_1_gender_is_male, revenue, vote_count, ...</td>\n",
       "      <td>(budget, producer_gender_is_male, director_gen...</td>\n",
       "      <td>0.249204</td>\n",
       "      <td>0.315117</td>\n",
       "      <td>2.732626</td>\n",
       "    </tr>\n",
       "  </tbody>\n",
       "</table>\n",
       "</div>"
      ],
      "text/plain": [
       "                                             antecedants  \\\n",
       "51163  (vote_count, actor_1_gender_is_male, director_...   \n",
       "51226  (vote_average, budget, success, producer_gende...   \n",
       "46174  (actor_2_gender_is_male, vote_count, director_...   \n",
       "46307                    (vote_average, budget, success)   \n",
       "51274  (actor_1_gender_is_male, revenue, vote_count, ...   \n",
       "\n",
       "                                             consequents   support  \\\n",
       "51163  (vote_average, budget, success, producer_gende...  0.222320   \n",
       "51226  (vote_count, actor_1_gender_is_male, director_...  0.126636   \n",
       "46174                    (vote_average, budget, success)  0.159356   \n",
       "46307  (actor_2_gender_is_male, vote_count, director_...  0.169084   \n",
       "51274  (budget, producer_gender_is_male, director_gen...  0.249204   \n",
       "\n",
       "       confidence      lift  \n",
       "51163    0.353222  2.789269  \n",
       "51226    0.620112  2.789269  \n",
       "46174    0.469478  2.776601  \n",
       "46307    0.442469  2.776601  \n",
       "51274    0.315117  2.732626  "
      ]
     },
     "execution_count": 185,
     "metadata": {},
     "output_type": "execute_result"
    }
   ],
   "source": [
    "rules.sort_values(by=['lift'],ascending=False).head()"
   ]
  },
  {
   "cell_type": "markdown",
   "metadata": {},
   "source": [
    "The rule that high popularity points, combined with budget and vote_count leads to success and high revenue, seems intuitive."
   ]
  },
  {
   "cell_type": "code",
   "execution_count": 187,
   "metadata": {},
   "outputs": [],
   "source": [
    "rules.sort_values(by=['lift'],ascending=False).to_csv(\"rules_with_gender_info.csv\",encoding='utf8',index=False)"
   ]
  }
 ],
 "metadata": {
  "kernelspec": {
   "display_name": "Python [conda env:Anaconda3]",
   "language": "python",
   "name": "conda-env-Anaconda3-py"
  },
  "language_info": {
   "codemirror_mode": {
    "name": "ipython",
    "version": 3
   },
   "file_extension": ".py",
   "mimetype": "text/x-python",
   "name": "python",
   "nbconvert_exporter": "python",
   "pygments_lexer": "ipython3",
   "version": "3.6.3"
  }
 },
 "nbformat": 4,
 "nbformat_minor": 2
}
