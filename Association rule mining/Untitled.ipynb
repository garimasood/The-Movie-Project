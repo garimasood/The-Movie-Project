{
 "cells": [
  {
   "cell_type": "code",
   "execution_count": 184,
   "metadata": {},
   "outputs": [],
   "source": [
    "import numpy as np\n",
    "import pandas as pd"
   ]
  },
  {
   "cell_type": "code",
   "execution_count": 193,
   "metadata": {},
   "outputs": [
    {
     "name": "stderr",
     "output_type": "stream",
     "text": [
      "C:\\Users\\samsu\\Anaconda3\\lib\\site-packages\\IPython\\core\\interactiveshell.py:2728: DtypeWarning: Columns (46) have mixed types. Specify dtype option on import or set low_memory=False.\n",
      "  interactivity=interactivity, compiler=compiler, result=result)\n"
     ]
    }
   ],
   "source": [
    "df = pd.read_csv(\"../Data Exploration and Preparation/master_data_with_imputed_budget_and_revenue.csv\")"
   ]
  },
  {
   "cell_type": "code",
   "execution_count": 194,
   "metadata": {},
   "outputs": [
    {
     "data": {
      "text/plain": [
       "Index(['movie_id', 'actor_1_gender', 'actor_2_gender', 'actor_3_gender',\n",
       "       'actor_4_gender', 'actor_5_gender', 'actor_1_name', 'actor_2_name',\n",
       "       'actor_3_name', 'actor_4_name', 'actor_5_name', 'director_gender',\n",
       "       'director_name', 'producer_gender', 'producer_name', 'casting_gender',\n",
       "       'casting_name', 'belongs_to_collection', 'genre_1', 'genre_2',\n",
       "       'genre_3', 'genre_4', 'production_company_1', 'production_company_2',\n",
       "       'production_company_3', 'production_country_1', 'production_country_2',\n",
       "       'production_country_3', 'spoken_language_1', 'spoken_language_2',\n",
       "       'spoken_language_3', 'adult', 'budget', 'homepage', 'imdb_id',\n",
       "       'original_language', 'original_title', 'overview', 'popularity',\n",
       "       'poster_path', 'release_date', 'revenue', 'runtime', 'status',\n",
       "       'tagline', 'title', 'video', 'vote_average', 'vote_count'],\n",
       "      dtype='object')"
      ]
     },
     "execution_count": 194,
     "metadata": {},
     "output_type": "execute_result"
    }
   ],
   "source": [
    "df.columns"
   ]
  },
  {
   "cell_type": "code",
   "execution_count": 195,
   "metadata": {},
   "outputs": [],
   "source": [
    "df.drop(['movie_id','actor_1_name','actor_2_name','actor_3_name','actor_4_name','actor_5_name','director_name','producer_name'\\\n",
    "         ,'casting_name','belongs_to_collection','genre_3', 'genre_4','production_company_1','production_company_2','production_company_3'\\\n",
    "         ,'spoken_language_1','spoken_language_2','spoken_language_3','homepage','imdb_id','original_title','overview'\\\n",
    "        ,'poster_path','release_date','runtime','status','tagline','title','video','production_company_1', 'production_company_2',\n",
    "       'production_company_3','production_country_2', 'production_country_3','original_language'],axis=1,inplace=True)"
   ]
  },
  {
   "cell_type": "code",
   "execution_count": 196,
   "metadata": {},
   "outputs": [
    {
     "data": {
      "text/plain": [
       "Index(['actor_1_gender', 'actor_2_gender', 'actor_3_gender', 'actor_4_gender',\n",
       "       'actor_5_gender', 'director_gender', 'producer_gender',\n",
       "       'casting_gender', 'genre_1', 'genre_2', 'production_country_1', 'adult',\n",
       "       'budget', 'popularity', 'revenue', 'vote_average', 'vote_count'],\n",
       "      dtype='object')"
      ]
     },
     "execution_count": 196,
     "metadata": {},
     "output_type": "execute_result"
    }
   ],
   "source": [
    "df.columns"
   ]
  },
  {
   "cell_type": "markdown",
   "metadata": {},
   "source": [
    "Let's only consider the movies for which both budget and revenue information is available."
   ]
  },
  {
   "cell_type": "code",
   "execution_count": 197,
   "metadata": {},
   "outputs": [],
   "source": [
    "df=df[(df['budget']!=0)&(df['revenue']!=0)]"
   ]
  },
  {
   "cell_type": "markdown",
   "metadata": {},
   "source": [
    "drop null rows"
   ]
  },
  {
   "cell_type": "code",
   "execution_count": 215,
   "metadata": {},
   "outputs": [],
   "source": [
    "df = df[pd.notnull(df['revenue'])]"
   ]
  },
  {
   "cell_type": "code",
   "execution_count": 216,
   "metadata": {},
   "outputs": [
    {
     "data": {
      "text/plain": [
       "(5654, 18)"
      ]
     },
     "execution_count": 216,
     "metadata": {},
     "output_type": "execute_result"
    }
   ],
   "source": [
    "df.shape"
   ]
  },
  {
   "cell_type": "markdown",
   "metadata": {},
   "source": [
    "Let's define a new column called success, which is 1 when revenue>budget else 0."
   ]
  },
  {
   "cell_type": "code",
   "execution_count": 200,
   "metadata": {},
   "outputs": [],
   "source": [
    "df['success'] = [1 if df.iloc[i,-3]>df.iloc[i,-5] else 0 for i in range(df.shape[0])]"
   ]
  },
  {
   "cell_type": "code",
   "execution_count": 201,
   "metadata": {},
   "outputs": [],
   "source": [
    "df['revenue'] = pd.qcut(df['revenue'],4,labels=False)"
   ]
  },
  {
   "cell_type": "code",
   "execution_count": 202,
   "metadata": {},
   "outputs": [],
   "source": [
    "df['budget'] = pd.qcut(df['budget'],4,labels=False)"
   ]
  },
  {
   "cell_type": "code",
   "execution_count": 204,
   "metadata": {},
   "outputs": [],
   "source": [
    "df['vote_count'] = pd.qcut(df['vote_count'],4,labels=False)"
   ]
  },
  {
   "cell_type": "code",
   "execution_count": 205,
   "metadata": {},
   "outputs": [],
   "source": [
    "df['vote_average'] = pd.qcut(df['vote_average'],4,labels=False)"
   ]
  },
  {
   "cell_type": "code",
   "execution_count": 206,
   "metadata": {},
   "outputs": [],
   "source": [
    "df['popularity'] = pd.qcut(df['popularity'],4,labels=False)"
   ]
  },
  {
   "cell_type": "code",
   "execution_count": 221,
   "metadata": {},
   "outputs": [],
   "source": [
    "df[['actor_1_gender','actor_2_gender','actor_3_gender','actor_4_gender','actor_5_gender','director_gender','producer_gender',\\\n",
    "    'casting_gender','budget','revenue']] = df[['actor_1_gender','actor_2_gender','actor_3_gender','actor_4_gender','actor_5_gender','director_gender','producer_gender',\\\n",
    "    'casting_gender','budget','revenue']].apply(pd.to_numeric)"
   ]
  },
  {
   "cell_type": "code",
   "execution_count": 226,
   "metadata": {},
   "outputs": [],
   "source": [
    "df.drop(['genre_1','genre_2','production_country_1','adult'],axis=1,inplace=True)"
   ]
  },
  {
   "cell_type": "code",
   "execution_count": 227,
   "metadata": {},
   "outputs": [
    {
     "data": {
      "text/html": [
       "<div>\n",
       "<style>\n",
       "    .dataframe thead tr:only-child th {\n",
       "        text-align: right;\n",
       "    }\n",
       "\n",
       "    .dataframe thead th {\n",
       "        text-align: left;\n",
       "    }\n",
       "\n",
       "    .dataframe tbody tr th {\n",
       "        vertical-align: top;\n",
       "    }\n",
       "</style>\n",
       "<table border=\"1\" class=\"dataframe\">\n",
       "  <thead>\n",
       "    <tr style=\"text-align: right;\">\n",
       "      <th></th>\n",
       "      <th>actor_1_gender</th>\n",
       "      <th>actor_2_gender</th>\n",
       "      <th>actor_3_gender</th>\n",
       "      <th>actor_4_gender</th>\n",
       "      <th>actor_5_gender</th>\n",
       "      <th>director_gender</th>\n",
       "      <th>producer_gender</th>\n",
       "      <th>casting_gender</th>\n",
       "      <th>budget</th>\n",
       "      <th>popularity</th>\n",
       "      <th>revenue</th>\n",
       "      <th>vote_average</th>\n",
       "      <th>vote_count</th>\n",
       "      <th>success</th>\n",
       "    </tr>\n",
       "  </thead>\n",
       "  <tbody>\n",
       "    <tr>\n",
       "      <th>0</th>\n",
       "      <td>2.0</td>\n",
       "      <td>2.0</td>\n",
       "      <td>2.0</td>\n",
       "      <td>2.0</td>\n",
       "      <td>2.0</td>\n",
       "      <td>2.0</td>\n",
       "      <td>1.0</td>\n",
       "      <td>NaN</td>\n",
       "      <td>2.0</td>\n",
       "      <td>3</td>\n",
       "      <td>3.0</td>\n",
       "      <td>3</td>\n",
       "      <td>3</td>\n",
       "      <td>1</td>\n",
       "    </tr>\n",
       "    <tr>\n",
       "      <th>1</th>\n",
       "      <td>2.0</td>\n",
       "      <td>2.0</td>\n",
       "      <td>1.0</td>\n",
       "      <td>0.0</td>\n",
       "      <td>1.0</td>\n",
       "      <td>2.0</td>\n",
       "      <td>2.0</td>\n",
       "      <td>0.0</td>\n",
       "      <td>3.0</td>\n",
       "      <td>3</td>\n",
       "      <td>3.0</td>\n",
       "      <td>3</td>\n",
       "      <td>3</td>\n",
       "      <td>1</td>\n",
       "    </tr>\n",
       "    <tr>\n",
       "      <th>2</th>\n",
       "      <td>2.0</td>\n",
       "      <td>2.0</td>\n",
       "      <td>1.0</td>\n",
       "      <td>1.0</td>\n",
       "      <td>1.0</td>\n",
       "      <td>2.0</td>\n",
       "      <td>NaN</td>\n",
       "      <td>NaN</td>\n",
       "      <td>2.0</td>\n",
       "      <td>3</td>\n",
       "      <td>2.0</td>\n",
       "      <td>2</td>\n",
       "      <td>1</td>\n",
       "      <td>1</td>\n",
       "    </tr>\n",
       "    <tr>\n",
       "      <th>3</th>\n",
       "      <td>1.0</td>\n",
       "      <td>1.0</td>\n",
       "      <td>1.0</td>\n",
       "      <td>1.0</td>\n",
       "      <td>2.0</td>\n",
       "      <td>2.0</td>\n",
       "      <td>0.0</td>\n",
       "      <td>NaN</td>\n",
       "      <td>1.0</td>\n",
       "      <td>0</td>\n",
       "      <td>2.0</td>\n",
       "      <td>1</td>\n",
       "      <td>0</td>\n",
       "      <td>1</td>\n",
       "    </tr>\n",
       "    <tr>\n",
       "      <th>4</th>\n",
       "      <td>2.0</td>\n",
       "      <td>1.0</td>\n",
       "      <td>2.0</td>\n",
       "      <td>1.0</td>\n",
       "      <td>2.0</td>\n",
       "      <td>2.0</td>\n",
       "      <td>1.0</td>\n",
       "      <td>NaN</td>\n",
       "      <td>1.0</td>\n",
       "      <td>2</td>\n",
       "      <td>0.0</td>\n",
       "      <td>1</td>\n",
       "      <td>2</td>\n",
       "      <td>0</td>\n",
       "    </tr>\n",
       "  </tbody>\n",
       "</table>\n",
       "</div>"
      ],
      "text/plain": [
       "   actor_1_gender  actor_2_gender  actor_3_gender  actor_4_gender  \\\n",
       "0             2.0             2.0             2.0             2.0   \n",
       "1             2.0             2.0             1.0             0.0   \n",
       "2             2.0             2.0             1.0             1.0   \n",
       "3             1.0             1.0             1.0             1.0   \n",
       "4             2.0             1.0             2.0             1.0   \n",
       "\n",
       "   actor_5_gender  director_gender  producer_gender  casting_gender  budget  \\\n",
       "0             2.0              2.0              1.0             NaN     2.0   \n",
       "1             1.0              2.0              2.0             0.0     3.0   \n",
       "2             1.0              2.0              NaN             NaN     2.0   \n",
       "3             2.0              2.0              0.0             NaN     1.0   \n",
       "4             2.0              2.0              1.0             NaN     1.0   \n",
       "\n",
       "   popularity  revenue  vote_average  vote_count  success  \n",
       "0           3      3.0             3           3        1  \n",
       "1           3      3.0             3           3        1  \n",
       "2           3      2.0             2           1        1  \n",
       "3           0      2.0             1           0        1  \n",
       "4           2      0.0             1           2        0  "
      ]
     },
     "execution_count": 227,
     "metadata": {},
     "output_type": "execute_result"
    }
   ],
   "source": [
    "df.head()"
   ]
  },
  {
   "cell_type": "code",
   "execution_count": 218,
   "metadata": {},
   "outputs": [],
   "source": [
    "from mlxtend.frequent_patterns import apriori\n",
    "from mlxtend.frequent_patterns import association_rules"
   ]
  },
  {
   "cell_type": "code",
   "execution_count": 228,
   "metadata": {},
   "outputs": [
    {
     "name": "stderr",
     "output_type": "stream",
     "text": [
      "C:\\Users\\samsu\\Anaconda3\\lib\\site-packages\\mlxtend\\frequent_patterns\\apriori.py:51: RuntimeWarning: invalid value encountered in greater_equal\n",
      "  support_dict = {1: support[support >= min_support]}\n",
      "C:\\Users\\samsu\\Anaconda3\\lib\\site-packages\\mlxtend\\frequent_patterns\\apriori.py:52: RuntimeWarning: invalid value encountered in greater_equal\n",
      "  itemset_dict = {1: ary_col_idx[support >= min_support].reshape(-1, 1)}\n"
     ]
    }
   ],
   "source": [
    "frequent_itemsets = apriori(df, min_support=0.07, use_colnames=True)"
   ]
  },
  {
   "cell_type": "code",
   "execution_count": 235,
   "metadata": {},
   "outputs": [],
   "source": [
    "rules = association_rules(frequent_itemsets, metric=\"lift\", min_threshold=1)"
   ]
  },
  {
   "cell_type": "code",
   "execution_count": 242,
   "metadata": {},
   "outputs": [
    {
     "data": {
      "text/html": [
       "<div>\n",
       "<style>\n",
       "    .dataframe thead tr:only-child th {\n",
       "        text-align: right;\n",
       "    }\n",
       "\n",
       "    .dataframe thead th {\n",
       "        text-align: left;\n",
       "    }\n",
       "\n",
       "    .dataframe tbody tr th {\n",
       "        vertical-align: top;\n",
       "    }\n",
       "</style>\n",
       "<table border=\"1\" class=\"dataframe\">\n",
       "  <thead>\n",
       "    <tr style=\"text-align: right;\">\n",
       "      <th></th>\n",
       "      <th>antecedants</th>\n",
       "      <th>consequents</th>\n",
       "      <th>support</th>\n",
       "      <th>confidence</th>\n",
       "      <th>lift</th>\n",
       "    </tr>\n",
       "  </thead>\n",
       "  <tbody>\n",
       "    <tr>\n",
       "      <th>180</th>\n",
       "      <td>(popularity, budget, vote_count)</td>\n",
       "      <td>(success, revenue)</td>\n",
       "      <td>0.091970</td>\n",
       "      <td>0.959615</td>\n",
       "      <td>5.366632</td>\n",
       "    </tr>\n",
       "    <tr>\n",
       "      <th>185</th>\n",
       "      <td>(success, revenue)</td>\n",
       "      <td>(popularity, budget, vote_count)</td>\n",
       "      <td>0.178811</td>\n",
       "      <td>0.493571</td>\n",
       "      <td>5.366632</td>\n",
       "    </tr>\n",
       "    <tr>\n",
       "      <th>181</th>\n",
       "      <td>(popularity, vote_count, success)</td>\n",
       "      <td>(budget, revenue)</td>\n",
       "      <td>0.123099</td>\n",
       "      <td>0.716954</td>\n",
       "      <td>5.060747</td>\n",
       "    </tr>\n",
       "    <tr>\n",
       "      <th>184</th>\n",
       "      <td>(budget, revenue)</td>\n",
       "      <td>(popularity, vote_count, success)</td>\n",
       "      <td>0.141670</td>\n",
       "      <td>0.622971</td>\n",
       "      <td>5.060747</td>\n",
       "    </tr>\n",
       "    <tr>\n",
       "      <th>187</th>\n",
       "      <td>(popularity, budget)</td>\n",
       "      <td>(vote_count, success, revenue)</td>\n",
       "      <td>0.147683</td>\n",
       "      <td>0.597605</td>\n",
       "      <td>5.043071</td>\n",
       "    </tr>\n",
       "  </tbody>\n",
       "</table>\n",
       "</div>"
      ],
      "text/plain": [
       "                           antecedants                        consequents  \\\n",
       "180   (popularity, budget, vote_count)                 (success, revenue)   \n",
       "185                 (success, revenue)   (popularity, budget, vote_count)   \n",
       "181  (popularity, vote_count, success)                  (budget, revenue)   \n",
       "184                  (budget, revenue)  (popularity, vote_count, success)   \n",
       "187               (popularity, budget)     (vote_count, success, revenue)   \n",
       "\n",
       "      support  confidence      lift  \n",
       "180  0.091970    0.959615  5.366632  \n",
       "185  0.178811    0.493571  5.366632  \n",
       "181  0.123099    0.716954  5.060747  \n",
       "184  0.141670    0.622971  5.060747  \n",
       "187  0.147683    0.597605  5.043071  "
      ]
     },
     "execution_count": 242,
     "metadata": {},
     "output_type": "execute_result"
    }
   ],
   "source": [
    "rules.sort_values(by=['lift'],ascending=False).head(5)"
   ]
  },
  {
   "cell_type": "markdown",
   "metadata": {},
   "source": [
    "The rule that high popularity points, combined with budget and vote_count leads to success and high revenue, seems intuitive."
   ]
  },
  {
   "cell_type": "code",
   "execution_count": 241,
   "metadata": {},
   "outputs": [],
   "source": [
    "rules.to_csv(\"rules.csv\",encoding='utf8',index=False)"
   ]
  }
 ],
 "metadata": {
  "kernelspec": {
   "display_name": "Python [conda env:Anaconda3]",
   "language": "python",
   "name": "conda-env-Anaconda3-py"
  },
  "language_info": {
   "codemirror_mode": {
    "name": "ipython",
    "version": 3
   },
   "file_extension": ".py",
   "mimetype": "text/x-python",
   "name": "python",
   "nbconvert_exporter": "python",
   "pygments_lexer": "ipython3",
   "version": "3.6.3"
  }
 },
 "nbformat": 4,
 "nbformat_minor": 2
}
