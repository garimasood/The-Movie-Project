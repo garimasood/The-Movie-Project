{
 "cells": [
  {
   "cell_type": "markdown",
   "metadata": {},
   "source": [
    "## Import Libraries\n",
    "Import the necessary Python libraries"
   ]
  },
  {
   "cell_type": "code",
   "execution_count": 1,
   "metadata": {},
   "outputs": [],
   "source": [
    "import numpy as np\n",
    "import pandas as pd\n",
    "import matplotlib.pyplot as plt\n",
    "import seaborn as sns\n",
    "import json\n",
    "import ast"
   ]
  },
  {
   "cell_type": "code",
   "execution_count": 2,
   "metadata": {},
   "outputs": [],
   "source": [
    "%matplotlib inline\n",
    "sns.set_style('whitegrid')"
   ]
  },
  {
   "cell_type": "markdown",
   "metadata": {},
   "source": [
    "## Load Data\n",
    "Load movies csv file and perform two tasks while loading:\n",
    "\n",
    "Convert date field to datetime.date type Convert all column with json data as json type"
   ]
  },
  {
   "cell_type": "code",
   "execution_count": 3,
   "metadata": {},
   "outputs": [],
   "source": [
    "def load_movies_metadata(file_path):\n",
    "    df = pd.read_csv(file_path, dtype='unicode')\n",
    "    # covert each item of release_date to datetime.date type entity\n",
    "    df['release_date'] = pd.to_datetime(df['release_date'], errors='coerce').apply(lambda x: x.date())\n",
    "    # all json columns`\n",
    "    json_columns = ['belongs_to_collection', 'genres', 'production_companies', 'production_countries', 'spoken_languages']\n",
    "    for column in json_columns:\n",
    "        # use ast because json data has single quotes in the csv, which is invalid for a json object; it should be \" normally\n",
    "        df[column] = df[column].apply(lambda x: np.nan if pd.isnull(x) else ast.literal_eval(x))\n",
    "    return df"
   ]
  },
  {
   "cell_type": "markdown",
   "metadata": {},
   "source": [
    "Load the movies metadata csv file"
   ]
  },
  {
   "cell_type": "code",
   "execution_count": 4,
   "metadata": {},
   "outputs": [],
   "source": [
    "movies = load_movies_metadata(r\"D:\\uChicago\\Classes\\Q2\\Data Mining\\project\\the-movies-dataset\\movies_metadata.csv\")"
   ]
  },
  {
   "cell_type": "code",
   "execution_count": 7,
   "metadata": {},
   "outputs": [
    {
     "data": {
      "text/plain": [
       "{'backdrop_path': '/9FBwqcd9IRruEDUrTdcaafOMKUq.jpg',\n",
       " 'id': 10194,\n",
       " 'name': 'Toy Story Collection',\n",
       " 'poster_path': '/7G9915LfUQ2lVfwMEEhDsn3kT4B.jpg'}"
      ]
     },
     "execution_count": 7,
     "metadata": {},
     "output_type": "execute_result"
    }
   ],
   "source": [
    "movies['belongs_to_collection'][0]"
   ]
  },
  {
   "cell_type": "code",
   "execution_count": 8,
   "metadata": {},
   "outputs": [
    {
     "data": {
      "text/plain": [
       "[{'id': 16, 'name': 'Animation'},\n",
       " {'id': 35, 'name': 'Comedy'},\n",
       " {'id': 10751, 'name': 'Family'}]"
      ]
     },
     "execution_count": 8,
     "metadata": {},
     "output_type": "execute_result"
    }
   ],
   "source": [
    "movies['genres'][0]"
   ]
  },
  {
   "cell_type": "code",
   "execution_count": 9,
   "metadata": {},
   "outputs": [
    {
     "data": {
      "text/plain": [
       "{'backdrop_path': '/9FBwqcd9IRruEDUrTdcaafOMKUq.jpg',\n",
       " 'id': 10194,\n",
       " 'name': 'Toy Story Collection',\n",
       " 'poster_path': '/7G9915LfUQ2lVfwMEEhDsn3kT4B.jpg'}"
      ]
     },
     "execution_count": 9,
     "metadata": {},
     "output_type": "execute_result"
    }
   ],
   "source": [
    "movies['belongs_to_collection'][0]"
   ]
  },
  {
   "cell_type": "code",
   "execution_count": 10,
   "metadata": {},
   "outputs": [
    {
     "data": {
      "text/plain": [
       "[{'iso_3166_1': 'US', 'name': 'United States of America'}]"
      ]
     },
     "execution_count": 10,
     "metadata": {},
     "output_type": "execute_result"
    }
   ],
   "source": [
    "movies['production_countries'][0]"
   ]
  },
  {
   "cell_type": "code",
   "execution_count": 11,
   "metadata": {},
   "outputs": [
    {
     "data": {
      "text/plain": [
       "{'backdrop_path': '/9FBwqcd9IRruEDUrTdcaafOMKUq.jpg',\n",
       " 'id': 10194,\n",
       " 'name': 'Toy Story Collection',\n",
       " 'poster_path': '/7G9915LfUQ2lVfwMEEhDsn3kT4B.jpg'}"
      ]
     },
     "execution_count": 11,
     "metadata": {},
     "output_type": "execute_result"
    }
   ],
   "source": [
    "movies['belongs_to_collection'][0]"
   ]
  },
  {
   "cell_type": "code",
   "execution_count": 12,
   "metadata": {},
   "outputs": [
    {
     "data": {
      "text/plain": [
       "[{'iso_639_1': 'en', 'name': 'English'}]"
      ]
     },
     "execution_count": 12,
     "metadata": {},
     "output_type": "execute_result"
    }
   ],
   "source": [
    "movies['spoken_languages'][0]"
   ]
  },
  {
   "cell_type": "markdown",
   "metadata": {},
   "source": [
    "Below code prints unique list of languages in the dataset"
   ]
  },
  {
   "cell_type": "code",
   "execution_count": 5,
   "metadata": {},
   "outputs": [
    {
     "name": "stdout",
     "output_type": "stream",
     "text": [
      "['English', 'Français', 'Español', 'Deutsch', 'Pусский', 'Latin', 'Nederlands', '广州话 / 廣州話', '普通话', 'Magyar', 'shqip', 'Italiano', '한국어/조선말', 'فارسی', 'Dansk', '', '日本語', 'العربية', 'Hrvatski', 'Bosanski', 'Română', 'Bahasa indonesia', 'Bahasa melayu', 'svenska', 'עִבְרִית', 'Český', 'Polski', 'Gaeilge', 'Norsk', 'Slovenčina', 'Tiếng Việt', 'Português', 'हिन्दी', 'Català', 'Íslenska', 'Afrikaans', 'Srpski', 'বাংলা', 'Wolof', 'Cymraeg', 'ภาษาไทย', 'Latviešu', 'Kiswahili', 'български език', 'ελληνικά', 'Türkçe', 'suomi', 'Esperanto', 'Український', 'ქართული', 'Bokmål', 'No Language', 'euskera', 'Azərbaycan', 'Malti', 'اردو', 'isiZulu', 'Bamanankan', 'پښتو', 'Somali', 'ਪੰਜਾਬੀ', 'беларуская мова', 'தமிழ்', 'Galego', 'Kinyarwanda', 'қазақ', 'Eesti', 'Lietuvi\\x9akai', 'Slovenščina', 'తెలుగు', 'Fulfulde', '??????', '?????', 'ozbek', 'Hausa']\n"
     ]
    }
   ],
   "source": [
    "langs = []\n",
    "\n",
    "for i,row in movies.iterrows():\n",
    "    if row['spoken_languages'] is not np.nan:\n",
    "        a = row['spoken_languages']\n",
    "        for item in a:\n",
    "            if item['name'] not in langs:\n",
    "                langs.append(item['name'])\n",
    "\n",
    "print(langs)"
   ]
  },
  {
   "cell_type": "markdown",
   "metadata": {},
   "source": [
    "Below rows had to be delted because of the incorrect data placement in these rows"
   ]
  },
  {
   "cell_type": "code",
   "execution_count": null,
   "metadata": {},
   "outputs": [],
   "source": [
    "movies.drop(movies.index[19730],inplace=True)\n",
    "movies.drop(movies.index[29502],inplace=True)\n",
    "movies.drop(movies.index[35585],inplace=True)"
   ]
  },
  {
   "cell_type": "markdown",
   "metadata": {},
   "source": [
    "Below code prints unique list of countries in the dataset"
   ]
  },
  {
   "cell_type": "code",
   "execution_count": 24,
   "metadata": {},
   "outputs": [
    {
     "name": "stdout",
     "output_type": "stream",
     "text": [
      "['United States of America', 'Germany', 'United Kingdom', 'France', 'Italy', 'Spain', 'China', 'Australia', 'South Africa', 'Canada', 'Switzerland', 'Belgium', 'Japan', 'Iran', 'Netherlands', 'Hong Kong', 'Tunisia', 'Ireland', 'Dominican Republic', 'Croatia', 'Russia', 'Macedonia', 'Austria', 'Taiwan', 'New Zealand', 'Mexico', 'Poland', 'Peru', 'Cuba', 'Liechtenstein', 'Denmark', 'Portugal', 'Finland', 'Sweden', 'Argentina', 'Iceland', 'South Korea', 'Serbia', 'Hungary', 'Czech Republic', 'India', 'Brazil', 'Greece', 'Congo', 'Senegal', 'Burkina Faso', 'Romania', 'Philippines', 'Vietnam', 'Trinidad and Tobago', 'Bulgaria', 'Chile', 'Norway', 'Kazakhstan', 'Algeria', 'Luxembourg', 'Georgia', 'Ukraine', 'Botswana', 'Aruba', 'Israel', 'Turkey', 'Ecuador', 'Lebanon', 'Morocco', 'Bosnia and Herzegovina', 'Bahamas', 'Malaysia', 'Bhutan', 'Jamaica', 'Pakistan', 'Nepal', \"Cote D'Ivoire\", 'Thailand', 'Namibia', 'Cameroon', 'Colombia', 'Czechoslovakia', 'Uruguay', 'Slovenia', 'Libyan Arab Jamahiriya', 'Puerto Rico', 'Soviet Union', 'East Germany', 'Singapore', 'Afghanistan', 'Malta', 'Panama', 'Egypt', 'Zimbabwe', 'Tajikistan', 'Uzbekistan', 'Costa Rica', 'Kuwait', 'Martinique', 'Ghana', 'Armenia', 'Indonesia', 'Mongolia', 'Bolivia', 'Monaco', 'Iraq', 'Slovakia', 'Serbia and Montenegro', 'Venezuela', 'Lithuania', 'Rwanda', 'Palestinian Territory', 'Chad', 'Paraguay', 'Qatar', 'Estonia', 'Macao', 'Mali', 'United States Minor Outlying Islands', 'Latvia', 'United Arab Emirates', 'Azerbaijan', 'Cayman Islands', 'Nicaragua', 'Liberia', 'Yugoslavia', 'Montenegro', 'Angola', 'Belarus', 'Cambodia', 'Mauritania', 'Cyprus', 'Bangladesh', 'Syrian Arab Republic', 'Kyrgyz Republic', 'Albania', 'Tanzania', 'North Korea', 'Kenya', 'Jordan', 'Uganda', 'Saudi Arabia', 'Somalia', 'Guatemala', 'Madagascar', 'Ethiopia', 'Sri Lanka', 'Papua New Guinea', 'Nigeria', \"Lao People's Democratic Republic\", 'French Polynesia', 'Netherlands Antilles', 'Myanmar', 'Bermuda', 'El Salvador', 'French Southern Territories', 'Samoa', 'Moldova', 'Barbados', 'Antarctica', 'Gibraltar', 'Brunei Darussalam', 'Honduras', 'Guinea']\n"
     ]
    }
   ],
   "source": [
    "countries = []\n",
    "\n",
    "for i,row in movies.iterrows():\n",
    "    if row['production_countries'] is not np.nan:\n",
    "        a = row['production_countries']\n",
    "        for item in a:\n",
    "            if item['name'] not in countries:\n",
    "                countries.append(item['name'])\n",
    "\n",
    "print(countries)"
   ]
  },
  {
   "cell_type": "markdown",
   "metadata": {},
   "source": [
    "Below code prints unique list of genres in the dataset"
   ]
  },
  {
   "cell_type": "code",
   "execution_count": 26,
   "metadata": {},
   "outputs": [
    {
     "name": "stdout",
     "output_type": "stream",
     "text": [
      "['Animation', 'Comedy', 'Family', 'Adventure', 'Fantasy', 'Romance', 'Drama', 'Action', 'Crime', 'Thriller', 'Horror', 'History', 'Science Fiction', 'Mystery', 'War', 'Foreign', 'Music', 'Documentary', 'Western', 'TV Movie']\n"
     ]
    }
   ],
   "source": [
    "genres = []\n",
    "\n",
    "for i,row in movies.iterrows():\n",
    "    if row['genres'] is not np.nan:\n",
    "        a = row['genres']\n",
    "        for item in a:\n",
    "            if item['name'] not in genres:\n",
    "                genres.append(item['name'])\n",
    "\n",
    "print(genres)"
   ]
  },
  {
   "cell_type": "code",
   "execution_count": 10,
   "metadata": {},
   "outputs": [],
   "source": [
    "movies.drop(movies.index[19730],inplace=True)"
   ]
  },
  {
   "cell_type": "code",
   "execution_count": 17,
   "metadata": {},
   "outputs": [],
   "source": [
    "movies.drop(movies.index[29502],inplace=True)"
   ]
  },
  {
   "cell_type": "code",
   "execution_count": 22,
   "metadata": {},
   "outputs": [],
   "source": [
    "movies.drop(movies.index[35585],inplace=True)"
   ]
  },
  {
   "cell_type": "code",
   "execution_count": 21,
   "metadata": {},
   "outputs": [
    {
     "data": {
      "text/plain": [
       "adult                     Avalanche Sharks tells the story of a bikini ...\n",
       "belongs_to_collection                                              2.18548\n",
       "budget                                    /zaSf5OG7V8X8gqFvly88zDdRm46.jpg\n",
       "genres                   [{'name': 'Odyssey Media', 'id': 17161}, {'nam...\n",
       "homepage                          [{'iso_3166_1': 'CA', 'name': 'Canada'}]\n",
       "id                                                              2014-01-01\n",
       "imdb_id                                                                  0\n",
       "original_language                                                     82.0\n",
       "original_title                    [{'iso_639_1': 'en', 'name': 'English'}]\n",
       "overview                                                          Released\n",
       "popularity                                           Beware Of Frost Bites\n",
       "poster_path                                               Avalanche Sharks\n",
       "production_companies                                                 False\n",
       "production_countries                                                   4.3\n",
       "release_date                                                           NaT\n",
       "revenue                                                                NaN\n",
       "runtime                                                                NaN\n",
       "spoken_languages                                                       NaN\n",
       "status                                                                 NaN\n",
       "tagline                                                                NaN\n",
       "title                                                                  NaN\n",
       "video                                                                  NaN\n",
       "vote_average                                                           NaN\n",
       "vote_count                                                             NaN\n",
       "Name: 35587, dtype: object"
      ]
     },
     "execution_count": 21,
     "metadata": {},
     "output_type": "execute_result"
    }
   ],
   "source": [
    "movies.iloc[35585]"
   ]
  },
  {
   "cell_type": "code",
   "execution_count": null,
   "metadata": {},
   "outputs": [],
   "source": []
  },
  {
   "cell_type": "code",
   "execution_count": null,
   "metadata": {},
   "outputs": [],
   "source": []
  },
  {
   "cell_type": "code",
   "execution_count": null,
   "metadata": {},
   "outputs": [],
   "source": []
  }
 ],
 "metadata": {
  "kernelspec": {
   "display_name": "Python [conda env:Anaconda3]",
   "language": "python",
   "name": "conda-env-Anaconda3-py"
  },
  "language_info": {
   "codemirror_mode": {
    "name": "ipython",
    "version": 3
   },
   "file_extension": ".py",
   "mimetype": "text/x-python",
   "name": "python",
   "nbconvert_exporter": "python",
   "pygments_lexer": "ipython3",
   "version": "3.6.3"
  }
 },
 "nbformat": 4,
 "nbformat_minor": 2
}
