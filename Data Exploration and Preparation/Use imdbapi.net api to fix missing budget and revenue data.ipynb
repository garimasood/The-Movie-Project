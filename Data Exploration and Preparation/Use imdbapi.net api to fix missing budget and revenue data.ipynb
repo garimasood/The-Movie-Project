{
 "cells": [
  {
   "cell_type": "markdown",
   "metadata": {},
   "source": [
    "## Import the necessary Python libararies"
   ]
  },
  {
   "cell_type": "code",
   "execution_count": 1,
   "metadata": {},
   "outputs": [],
   "source": [
    "import requests\n",
    "import json\n",
    "import pandas as pd\n",
    "import numpy as np\n",
    "import requests, os"
   ]
  },
  {
   "cell_type": "markdown",
   "metadata": {},
   "source": [
    "## Read the master csv "
   ]
  },
  {
   "cell_type": "code",
   "execution_count": 33,
   "metadata": {},
   "outputs": [
    {
     "name": "stderr",
     "output_type": "stream",
     "text": [
      "C:\\Users\\samsu\\Anaconda3\\lib\\site-packages\\IPython\\core\\interactiveshell.py:2728: DtypeWarning: Columns (46) have mixed types. Specify dtype option on import or set low_memory=False.\n",
      "  interactivity=interactivity, compiler=compiler, result=result)\n"
     ]
    }
   ],
   "source": [
    "master_df = pd.read_csv(\"master_data.csv\")"
   ]
  },
  {
   "cell_type": "markdown",
   "metadata": {},
   "source": [
    "## Explore data"
   ]
  },
  {
   "cell_type": "markdown",
   "metadata": {},
   "source": [
    "print number of empty rows in budget column"
   ]
  },
  {
   "cell_type": "code",
   "execution_count": 3,
   "metadata": {},
   "outputs": [
    {
     "data": {
      "text/plain": [
       "0"
      ]
     },
     "execution_count": 3,
     "metadata": {},
     "output_type": "execute_result"
    }
   ],
   "source": [
    "master_df['budget'].isnull().sum()"
   ]
  },
  {
   "cell_type": "markdown",
   "metadata": {},
   "source": [
    "print number of empty rows in revenue column"
   ]
  },
  {
   "cell_type": "code",
   "execution_count": 4,
   "metadata": {},
   "outputs": [
    {
     "data": {
      "text/plain": [
       "3"
      ]
     },
     "execution_count": 4,
     "metadata": {},
     "output_type": "execute_result"
    }
   ],
   "source": [
    "master_df['revenue'].isnull().sum()"
   ]
  },
  {
   "cell_type": "markdown",
   "metadata": {},
   "source": [
    "print number of rows with budget=0"
   ]
  },
  {
   "cell_type": "code",
   "execution_count": 5,
   "metadata": {},
   "outputs": [
    {
     "data": {
      "text/plain": [
       "36626"
      ]
     },
     "execution_count": 5,
     "metadata": {},
     "output_type": "execute_result"
    }
   ],
   "source": [
    "sum(master_df['budget']==0)"
   ]
  },
  {
   "cell_type": "markdown",
   "metadata": {},
   "source": [
    "print number of rows with revenue=0"
   ]
  },
  {
   "cell_type": "code",
   "execution_count": 6,
   "metadata": {},
   "outputs": [
    {
     "data": {
      "text/plain": [
       "38107"
      ]
     },
     "execution_count": 6,
     "metadata": {},
     "output_type": "execute_result"
    }
   ],
   "source": [
    "sum(master_df['revenue']==0)"
   ]
  },
  {
   "cell_type": "markdown",
   "metadata": {},
   "source": [
    "## Fix missing values"
   ]
  },
  {
   "cell_type": "markdown",
   "metadata": {},
   "source": [
    "create a numpy series for IMDB movie ids of all the movies for which both budget and revenue equals 0"
   ]
  },
  {
   "cell_type": "code",
   "execution_count": 80,
   "metadata": {},
   "outputs": [],
   "source": [
    "missing_both = master_df['imdb_id'][(master_df['revenue']==0) & (master_df['budget']==0)]"
   ]
  },
  {
   "cell_type": "code",
   "execution_count": 57,
   "metadata": {},
   "outputs": [
    {
     "data": {
      "text/plain": [
       "34588"
      ]
     },
     "execution_count": 57,
     "metadata": {},
     "output_type": "execute_result"
    }
   ],
   "source": [
    "missing_both.shape[0]"
   ]
  },
  {
   "cell_type": "code",
   "execution_count": 9,
   "metadata": {},
   "outputs": [
    {
     "data": {
      "text/plain": [
       "15"
      ]
     },
     "execution_count": 9,
     "metadata": {},
     "output_type": "execute_result"
    }
   ],
   "source": [
    "missing_both.isnull().sum()"
   ]
  },
  {
   "cell_type": "code",
   "execution_count": 10,
   "metadata": {},
   "outputs": [],
   "source": [
    "missing_both = missing_both.dropna(axis=0, how='all').values"
   ]
  },
  {
   "cell_type": "code",
   "execution_count": 11,
   "metadata": {},
   "outputs": [
    {
     "data": {
      "text/plain": [
       "array(['tt0113228', 'tt0112302', 'tt0112896', ..., 'tt0303758',\n",
       "       'tt0008536', 'tt6980792'], dtype=object)"
      ]
     },
     "execution_count": 11,
     "metadata": {},
     "output_type": "execute_result"
    }
   ],
   "source": [
    "missing_both"
   ]
  },
  {
   "cell_type": "code",
   "execution_count": 12,
   "metadata": {},
   "outputs": [
    {
     "data": {
      "text/plain": [
       "34573"
      ]
     },
     "execution_count": 12,
     "metadata": {},
     "output_type": "execute_result"
    }
   ],
   "source": [
    "len(missing_both)"
   ]
  },
  {
   "cell_type": "code",
   "execution_count": 83,
   "metadata": {},
   "outputs": [],
   "source": [
    "missing_both = missing_both.reset_index(drop=True)"
   ]
  },
  {
   "cell_type": "code",
   "execution_count": 84,
   "metadata": {},
   "outputs": [
    {
     "name": "stdout",
     "output_type": "stream",
     "text": [
      "0\n",
      "1000\n",
      "2000\n",
      "3000\n",
      "4000\n"
     ]
    }
   ],
   "source": [
    "movie_info = {}\n",
    "fetched_missing_all = pd.DataFrame(None,None,columns=['imdb_id','budget','revenue'])\n",
    "\n",
    "for i in range(len(missing_both)):\n",
    "    budget = 0\n",
    "    revenue = 0\n",
    "    header = {\"key\":os.environ['IMDB_NET_API_KEY'],\"id\":missing_both[i]}\n",
    "    resp = requests.post(\"http://imdbapi.net/api\",json=header)\n",
    "    if resp.status_code !=200:\n",
    "        break\n",
    "    rtext = json.loads(resp.text)\n",
    "    #if 'status' in rtext and rtext['status']=='false':\n",
    "    #    break\n",
    "    if 'budget'in rtext and rtext['budget'].replace(\"$\",\"\").replace(\",\",\"\").isdigit():\n",
    "        budget = int(rtext['budget'].replace(\"$\",\"\").replace(\",\",\"\"))\n",
    "    if 'gross'in rtext and rtext['gross'].replace(\"$\",\"\").replace(\",\",\"\").isdigit():\n",
    "        revenue = int(rtext['gross'].replace(\"$\",\"\").replace(\",\",\"\"))\n",
    "    movie_info = {\"imdb_id\":missing_both[i],\"budget\":budget,\"revenue\":revenue}\n",
    "    fetched_missing_all =  fetched_missing_all.append({'imdb_id':movie_info['imdb_id'],'budget':movie_info['budget'],'revenue':movie_info['revenue']},ignore_index=True)"
   ]
  },
  {
   "cell_type": "code",
   "execution_count": 111,
   "metadata": {},
   "outputs": [
    {
     "data": {
      "text/plain": [
       "(34588, 3)"
      ]
     },
     "execution_count": 111,
     "metadata": {},
     "output_type": "execute_result"
    }
   ],
   "source": [
    "fetched_missing_all.shape"
   ]
  },
  {
   "cell_type": "code",
   "execution_count": 112,
   "metadata": {},
   "outputs": [
    {
     "data": {
      "text/plain": [
       "budget     968\n",
       "imdb_id    968\n",
       "revenue    968\n",
       "dtype: int64"
      ]
     },
     "execution_count": 112,
     "metadata": {},
     "output_type": "execute_result"
    }
   ],
   "source": [
    "fetched_missing_all[(fetched_missing_all['budget']!=0) & (fetched_missing_all['revenue']!=0)].count()"
   ]
  },
  {
   "cell_type": "markdown",
   "metadata": {},
   "source": [
    "So, out of the 34573 movies that had 0 in budget and revenue columns, we were able to get both budget and revenue values for 968 movies."
   ]
  },
  {
   "cell_type": "markdown",
   "metadata": {},
   "source": [
    "Next, we pick up all the rows for which either budget or revenue has 0 value."
   ]
  },
  {
   "cell_type": "code",
   "execution_count": 113,
   "metadata": {},
   "outputs": [],
   "source": [
    "missing_one = master_df['imdb_id'][((master_df['revenue']==0) & (master_df['budget']!=0)) | ((master_df['revenue']!=0) & (master_df['budget']==0))]"
   ]
  },
  {
   "cell_type": "code",
   "execution_count": 118,
   "metadata": {},
   "outputs": [],
   "source": [
    "missing_one = missing_one.dropna(axis=0, how='all').values"
   ]
  },
  {
   "cell_type": "code",
   "execution_count": 121,
   "metadata": {},
   "outputs": [
    {
     "data": {
      "text/plain": [
       "5555"
      ]
     },
     "execution_count": 121,
     "metadata": {},
     "output_type": "execute_result"
    }
   ],
   "source": [
    "missing_one.shape[0]"
   ]
  },
  {
   "cell_type": "code",
   "execution_count": 127,
   "metadata": {},
   "outputs": [],
   "source": [
    "movie_info = {}\n",
    "fetched_missing_one = pd.DataFrame(None,None,columns=['imdb_id','budget','revenue'])\n",
    "\n",
    "for i in range(len(missing_one)):\n",
    "    budget = 0\n",
    "    revenue = 0\n",
    "    header = {\"key\":'CwPaEy9GKVyUig6J8J2MdldyARSNOd',\"id\":missing_one[i]}\n",
    "    resp = requests.post(\"http://imdbapi.net/api\",json=header)\n",
    "    if resp.status_code !=200:\n",
    "        break\n",
    "    rtext = json.loads(resp.text)\n",
    "    #if 'status' in rtext and rtext['status']=='false':\n",
    "    #    break\n",
    "    if 'budget'in rtext and rtext['budget'].replace(\"$\",\"\").replace(\",\",\"\").isdigit():\n",
    "        budget = int(rtext['budget'].replace(\"$\",\"\").replace(\",\",\"\"))\n",
    "    if 'gross'in rtext and rtext['gross'].replace(\"$\",\"\").replace(\",\",\"\").isdigit():\n",
    "        revenue = int(rtext['gross'].replace(\"$\",\"\").replace(\",\",\"\"))\n",
    "    movie_info = {\"imdb_id\":missing_one[i],\"budget\":budget,\"revenue\":revenue}\n",
    "    fetched_missing_one =  fetched_missing_one.append({'imdb_id':movie_info['imdb_id'],'budget':movie_info['budget'],'revenue':movie_info['revenue']},ignore_index=True)"
   ]
  },
  {
   "cell_type": "code",
   "execution_count": 128,
   "metadata": {},
   "outputs": [
    {
     "data": {
      "text/plain": [
       "(5555, 3)"
      ]
     },
     "execution_count": 128,
     "metadata": {},
     "output_type": "execute_result"
    }
   ],
   "source": [
    "fetched_missing_one.shape"
   ]
  },
  {
   "cell_type": "code",
   "execution_count": 129,
   "metadata": {},
   "outputs": [
    {
     "data": {
      "text/plain": [
       "imdb_id    827\n",
       "budget     827\n",
       "revenue    827\n",
       "dtype: int64"
      ]
     },
     "execution_count": 129,
     "metadata": {},
     "output_type": "execute_result"
    }
   ],
   "source": [
    "fetched_missing_one[(fetched_missing_one['budget']!=0) & (fetched_missing_one['revenue']!=0)].count()"
   ]
  },
  {
   "cell_type": "markdown",
   "metadata": {},
   "source": [
    "Out of 5555 movies missing either budget or revenue information, we were able to fetch information for 827 movies."
   ]
  },
  {
   "cell_type": "code",
   "execution_count": 138,
   "metadata": {},
   "outputs": [],
   "source": [
    "fetched_clean = fetched_missing_all[(fetched_missing_all['budget']!=0) & (fetched_missing_all['revenue']!=0)]"
   ]
  },
  {
   "cell_type": "code",
   "execution_count": 140,
   "metadata": {},
   "outputs": [],
   "source": [
    "fetched_clean = fetched_clean.append(fetched_missing_one[(fetched_missing_one['budget']!=0) & (fetched_missing_one['revenue']!=0)], ignore_index=True)"
   ]
  },
  {
   "cell_type": "code",
   "execution_count": 142,
   "metadata": {},
   "outputs": [
    {
     "data": {
      "text/html": [
       "<div>\n",
       "<style>\n",
       "    .dataframe thead tr:only-child th {\n",
       "        text-align: right;\n",
       "    }\n",
       "\n",
       "    .dataframe thead th {\n",
       "        text-align: left;\n",
       "    }\n",
       "\n",
       "    .dataframe tbody tr th {\n",
       "        vertical-align: top;\n",
       "    }\n",
       "</style>\n",
       "<table border=\"1\" class=\"dataframe\">\n",
       "  <thead>\n",
       "    <tr style=\"text-align: right;\">\n",
       "      <th></th>\n",
       "      <th>budget</th>\n",
       "      <th>imdb_id</th>\n",
       "      <th>revenue</th>\n",
       "    </tr>\n",
       "  </thead>\n",
       "  <tbody>\n",
       "    <tr>\n",
       "      <th>0</th>\n",
       "      <td>2.5e+07</td>\n",
       "      <td>tt0113228</td>\n",
       "      <td>6.987e+07</td>\n",
       "    </tr>\n",
       "    <tr>\n",
       "      <th>1</th>\n",
       "      <td>3e+07</td>\n",
       "      <td>tt0112896</td>\n",
       "      <td>1.06936e+07</td>\n",
       "    </tr>\n",
       "    <tr>\n",
       "      <th>2</th>\n",
       "      <td>2e+07</td>\n",
       "      <td>tt0112722</td>\n",
       "      <td>3.20519e+07</td>\n",
       "    </tr>\n",
       "    <tr>\n",
       "      <th>3</th>\n",
       "      <td>9.5e+06</td>\n",
       "      <td>tt0114168</td>\n",
       "      <td>3.08621e+07</td>\n",
       "    </tr>\n",
       "    <tr>\n",
       "      <th>4</th>\n",
       "      <td>1.1e+07</td>\n",
       "      <td>tt0114057</td>\n",
       "      <td>2.11295e+06</td>\n",
       "    </tr>\n",
       "  </tbody>\n",
       "</table>\n",
       "</div>"
      ],
      "text/plain": [
       "    budget    imdb_id      revenue\n",
       "0  2.5e+07  tt0113228    6.987e+07\n",
       "1    3e+07  tt0112896  1.06936e+07\n",
       "2    2e+07  tt0112722  3.20519e+07\n",
       "3  9.5e+06  tt0114168  3.08621e+07\n",
       "4  1.1e+07  tt0114057  2.11295e+06"
      ]
     },
     "execution_count": 142,
     "metadata": {},
     "output_type": "execute_result"
    }
   ],
   "source": [
    "fetched_clean.head()"
   ]
  },
  {
   "cell_type": "code",
   "execution_count": 143,
   "metadata": {},
   "outputs": [
    {
     "data": {
      "text/plain": [
       "(1795, 3)"
      ]
     },
     "execution_count": 143,
     "metadata": {},
     "output_type": "execute_result"
    }
   ],
   "source": [
    "fetched_clean.shape"
   ]
  },
  {
   "cell_type": "code",
   "execution_count": 144,
   "metadata": {},
   "outputs": [],
   "source": [
    "#fetched_clean.to_csv(\"fetched_clean.csv\",index=False,encoding=\"utf8\")"
   ]
  },
  {
   "cell_type": "code",
   "execution_count": 162,
   "metadata": {},
   "outputs": [],
   "source": [
    "master_df.loc[master_df.imdb_id.isin(fetched_clean.imdb_id),['budget','revenue']] = fetched_clean[['budget','revenue']]"
   ]
  },
  {
   "cell_type": "code",
   "execution_count": 166,
   "metadata": {},
   "outputs": [],
   "source": [
    "master_df.to_csv('master_data_with_imputed_budget_and_revenue.csv',index=False,encoding='utf8')"
   ]
  },
  {
   "cell_type": "code",
   "execution_count": null,
   "metadata": {},
   "outputs": [],
   "source": []
  }
 ],
 "metadata": {
  "kernelspec": {
   "display_name": "Python [conda env:Anaconda3]",
   "language": "python",
   "name": "conda-env-Anaconda3-py"
  },
  "language_info": {
   "codemirror_mode": {
    "name": "ipython",
    "version": 3
   },
   "file_extension": ".py",
   "mimetype": "text/x-python",
   "name": "python",
   "nbconvert_exporter": "python",
   "pygments_lexer": "ipython3",
   "version": "3.6.3"
  }
 },
 "nbformat": 4,
 "nbformat_minor": 2
}
