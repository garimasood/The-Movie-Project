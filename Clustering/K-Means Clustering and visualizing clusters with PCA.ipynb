{
 "cells": [
  {
   "cell_type": "code",
   "execution_count": 1,
   "metadata": {},
   "outputs": [],
   "source": [
    "import numpy as np\n",
    "import pandas as pd\n",
    "import pylab as pl\n",
    "from sklearn.cluster import KMeans\n",
    "from sklearn.decomposition import PCA\n",
    "import matplotlib.pyplot as plt\n",
    "import seaborn as sns\n",
    "%matplotlib inline"
   ]
  },
  {
   "cell_type": "markdown",
   "metadata": {},
   "source": [
    "Read the movies metadata csv file"
   ]
  },
  {
   "cell_type": "code",
   "execution_count": 2,
   "metadata": {},
   "outputs": [
    {
     "name": "stderr",
     "output_type": "stream",
     "text": [
      "C:\\Users\\samsu\\Anaconda3\\lib\\site-packages\\IPython\\core\\interactiveshell.py:2728: DtypeWarning: Columns (46) have mixed types. Specify dtype option on import or set low_memory=False.\n",
      "  interactivity=interactivity, compiler=compiler, result=result)\n"
     ]
    }
   ],
   "source": [
    "df = pd.read_csv(\"../Data Exploration and Preparation/master_data_with_imputed_budget_and_revenue.csv\")"
   ]
  },
  {
   "cell_type": "markdown",
   "metadata": {},
   "source": [
    "Only keep the numeric columns for our analysis. However, we'll keep titles also to interpret the results at the end of clustering. Note that this title column will not be used in the analysis."
   ]
  },
  {
   "cell_type": "code",
   "execution_count": 3,
   "metadata": {},
   "outputs": [],
   "source": [
    "df_numeric = df[['budget','popularity','revenue','runtime','vote_average','vote_count','title']]"
   ]
  },
  {
   "cell_type": "code",
   "execution_count": 4,
   "metadata": {},
   "outputs": [
    {
     "data": {
      "text/html": [
       "<div>\n",
       "<style>\n",
       "    .dataframe thead tr:only-child th {\n",
       "        text-align: right;\n",
       "    }\n",
       "\n",
       "    .dataframe thead th {\n",
       "        text-align: left;\n",
       "    }\n",
       "\n",
       "    .dataframe tbody tr th {\n",
       "        vertical-align: top;\n",
       "    }\n",
       "</style>\n",
       "<table border=\"1\" class=\"dataframe\">\n",
       "  <thead>\n",
       "    <tr style=\"text-align: right;\">\n",
       "      <th></th>\n",
       "      <th>budget</th>\n",
       "      <th>popularity</th>\n",
       "      <th>revenue</th>\n",
       "      <th>runtime</th>\n",
       "      <th>vote_average</th>\n",
       "      <th>vote_count</th>\n",
       "      <th>title</th>\n",
       "    </tr>\n",
       "  </thead>\n",
       "  <tbody>\n",
       "    <tr>\n",
       "      <th>0</th>\n",
       "      <td>30000000.0</td>\n",
       "      <td>21.946943</td>\n",
       "      <td>373554033.0</td>\n",
       "      <td>81.0</td>\n",
       "      <td>7.7</td>\n",
       "      <td>5415.0</td>\n",
       "      <td>Toy Story</td>\n",
       "    </tr>\n",
       "    <tr>\n",
       "      <th>1</th>\n",
       "      <td>65000000.0</td>\n",
       "      <td>17.015539</td>\n",
       "      <td>262797249.0</td>\n",
       "      <td>104.0</td>\n",
       "      <td>6.9</td>\n",
       "      <td>2413.0</td>\n",
       "      <td>Jumanji</td>\n",
       "    </tr>\n",
       "    <tr>\n",
       "      <th>2</th>\n",
       "      <td>20000000.0</td>\n",
       "      <td>11.712900</td>\n",
       "      <td>32051917.0</td>\n",
       "      <td>101.0</td>\n",
       "      <td>6.5</td>\n",
       "      <td>92.0</td>\n",
       "      <td>Grumpier Old Men</td>\n",
       "    </tr>\n",
       "    <tr>\n",
       "      <th>3</th>\n",
       "      <td>16000000.0</td>\n",
       "      <td>3.859495</td>\n",
       "      <td>81452156.0</td>\n",
       "      <td>127.0</td>\n",
       "      <td>6.1</td>\n",
       "      <td>34.0</td>\n",
       "      <td>Waiting to Exhale</td>\n",
       "    </tr>\n",
       "    <tr>\n",
       "      <th>4</th>\n",
       "      <td>11000000.0</td>\n",
       "      <td>8.387519</td>\n",
       "      <td>2112951.0</td>\n",
       "      <td>106.0</td>\n",
       "      <td>5.7</td>\n",
       "      <td>173.0</td>\n",
       "      <td>Father of the Bride Part II</td>\n",
       "    </tr>\n",
       "  </tbody>\n",
       "</table>\n",
       "</div>"
      ],
      "text/plain": [
       "       budget  popularity      revenue  runtime  vote_average  vote_count  \\\n",
       "0  30000000.0   21.946943  373554033.0     81.0           7.7      5415.0   \n",
       "1  65000000.0   17.015539  262797249.0    104.0           6.9      2413.0   \n",
       "2  20000000.0   11.712900   32051917.0    101.0           6.5        92.0   \n",
       "3  16000000.0    3.859495   81452156.0    127.0           6.1        34.0   \n",
       "4  11000000.0    8.387519    2112951.0    106.0           5.7       173.0   \n",
       "\n",
       "                         title  \n",
       "0                    Toy Story  \n",
       "1                      Jumanji  \n",
       "2             Grumpier Old Men  \n",
       "3            Waiting to Exhale  \n",
       "4  Father of the Bride Part II  "
      ]
     },
     "execution_count": 4,
     "metadata": {},
     "output_type": "execute_result"
    }
   ],
   "source": [
    "df_numeric.head()"
   ]
  },
  {
   "cell_type": "markdown",
   "metadata": {},
   "source": [
    "Check if rows contain any null values"
   ]
  },
  {
   "cell_type": "code",
   "execution_count": 5,
   "metadata": {},
   "outputs": [
    {
     "data": {
      "text/plain": [
       "budget          1534\n",
       "popularity         3\n",
       "revenue         1537\n",
       "runtime          260\n",
       "vote_average       3\n",
       "vote_count         3\n",
       "title              3\n",
       "dtype: int64"
      ]
     },
     "execution_count": 5,
     "metadata": {},
     "output_type": "execute_result"
    }
   ],
   "source": [
    "df_numeric.isnull().sum()"
   ]
  },
  {
   "cell_type": "markdown",
   "metadata": {},
   "source": [
    "Drop all the rows with null values"
   ]
  },
  {
   "cell_type": "code",
   "execution_count": 6,
   "metadata": {},
   "outputs": [
    {
     "name": "stderr",
     "output_type": "stream",
     "text": [
      "C:\\Users\\samsu\\Anaconda3\\lib\\site-packages\\ipykernel\\__main__.py:1: SettingWithCopyWarning: \n",
      "A value is trying to be set on a copy of a slice from a DataFrame\n",
      "\n",
      "See the caveats in the documentation: http://pandas.pydata.org/pandas-docs/stable/indexing.html#indexing-view-versus-copy\n",
      "  if __name__ == '__main__':\n"
     ]
    }
   ],
   "source": [
    "df_numeric.dropna(inplace=True)"
   ]
  },
  {
   "cell_type": "markdown",
   "metadata": {},
   "source": [
    "Let's see the statistics for the votes counts for the movies data"
   ]
  },
  {
   "cell_type": "code",
   "execution_count": 7,
   "metadata": {},
   "outputs": [
    {
     "data": {
      "text/plain": [
       "count    43744.000000\n",
       "mean       110.948473\n",
       "std        499.853244\n",
       "min          0.000000\n",
       "25%          3.000000\n",
       "50%          9.000000\n",
       "75%         32.000000\n",
       "max      14075.000000\n",
       "Name: vote_count, dtype: float64"
      ]
     },
     "execution_count": 7,
     "metadata": {},
     "output_type": "execute_result"
    }
   ],
   "source": [
    "df_numeric['vote_count'].describe()"
   ]
  },
  {
   "cell_type": "markdown",
   "metadata": {},
   "source": [
    "We see that a half of movies have been rated less than 10 times. For easier interpretability, let's take only the movies that have more than 30 votes, i.e. top 26% of the movies."
   ]
  },
  {
   "cell_type": "code",
   "execution_count": 8,
   "metadata": {},
   "outputs": [
    {
     "data": {
      "text/plain": [
       "0.74      30.00\n",
       "0.75      32.00\n",
       "0.76      35.00\n",
       "0.77      37.00\n",
       "0.78      40.00\n",
       "0.79      43.00\n",
       "0.80      47.00\n",
       "0.81      51.00\n",
       "0.82      57.00\n",
       "0.83      62.00\n",
       "0.84      70.00\n",
       "0.85      77.00\n",
       "0.86      87.00\n",
       "0.87      99.00\n",
       "0.88     113.00\n",
       "0.89     133.00\n",
       "0.90     156.00\n",
       "0.91     188.00\n",
       "0.92     227.00\n",
       "0.93     280.00\n",
       "0.94     348.42\n",
       "0.95     441.00\n",
       "0.96     596.28\n",
       "0.97     848.00\n",
       "0.98    1280.56\n",
       "0.99    2299.85\n",
       "Name: vote_count, dtype: float64"
      ]
     },
     "execution_count": 8,
     "metadata": {},
     "output_type": "execute_result"
    }
   ],
   "source": [
    "df_numeric['vote_count'].quantile(np.arange(.74,1,0.01))"
   ]
  },
  {
   "cell_type": "code",
   "execution_count": 9,
   "metadata": {},
   "outputs": [],
   "source": [
    "df_numeric = df_numeric[df_numeric['vote_count']>30]"
   ]
  },
  {
   "cell_type": "code",
   "execution_count": 10,
   "metadata": {},
   "outputs": [
    {
     "data": {
      "text/plain": [
       "(11346, 7)"
      ]
     },
     "execution_count": 10,
     "metadata": {},
     "output_type": "execute_result"
    }
   ],
   "source": [
    "df_numeric.shape"
   ]
  },
  {
   "cell_type": "markdown",
   "metadata": {},
   "source": [
    "## Normalize data\n",
    "Normalize the data with MinMax scaling provided by sklearn"
   ]
  },
  {
   "cell_type": "code",
   "execution_count": 11,
   "metadata": {},
   "outputs": [],
   "source": [
    "from sklearn import preprocessing"
   ]
  },
  {
   "cell_type": "code",
   "execution_count": 12,
   "metadata": {},
   "outputs": [],
   "source": [
    "minmax_processed = preprocessing.MinMaxScaler().fit_transform(df_numeric.drop('title',axis=1))"
   ]
  },
  {
   "cell_type": "code",
   "execution_count": 13,
   "metadata": {},
   "outputs": [],
   "source": [
    "df_numeric_scaled = pd.DataFrame(minmax_processed, index=df_numeric.index, columns=df_numeric.columns[:-1])"
   ]
  },
  {
   "cell_type": "code",
   "execution_count": 14,
   "metadata": {},
   "outputs": [
    {
     "data": {
      "text/html": [
       "<div>\n",
       "<style>\n",
       "    .dataframe thead tr:only-child th {\n",
       "        text-align: right;\n",
       "    }\n",
       "\n",
       "    .dataframe thead th {\n",
       "        text-align: left;\n",
       "    }\n",
       "\n",
       "    .dataframe tbody tr th {\n",
       "        vertical-align: top;\n",
       "    }\n",
       "</style>\n",
       "<table border=\"1\" class=\"dataframe\">\n",
       "  <thead>\n",
       "    <tr style=\"text-align: right;\">\n",
       "      <th></th>\n",
       "      <th>budget</th>\n",
       "      <th>popularity</th>\n",
       "      <th>revenue</th>\n",
       "      <th>runtime</th>\n",
       "      <th>vote_average</th>\n",
       "      <th>vote_count</th>\n",
       "    </tr>\n",
       "  </thead>\n",
       "  <tbody>\n",
       "    <tr>\n",
       "      <th>0</th>\n",
       "      <td>0.078947</td>\n",
       "      <td>0.040082</td>\n",
       "      <td>0.133988</td>\n",
       "      <td>0.092360</td>\n",
       "      <td>0.810526</td>\n",
       "      <td>0.383367</td>\n",
       "    </tr>\n",
       "    <tr>\n",
       "      <th>1</th>\n",
       "      <td>0.171053</td>\n",
       "      <td>0.031075</td>\n",
       "      <td>0.094261</td>\n",
       "      <td>0.118586</td>\n",
       "      <td>0.726316</td>\n",
       "      <td>0.169610</td>\n",
       "    </tr>\n",
       "    <tr>\n",
       "      <th>2</th>\n",
       "      <td>0.052632</td>\n",
       "      <td>0.021389</td>\n",
       "      <td>0.011497</td>\n",
       "      <td>0.115165</td>\n",
       "      <td>0.684211</td>\n",
       "      <td>0.004343</td>\n",
       "    </tr>\n",
       "    <tr>\n",
       "      <th>3</th>\n",
       "      <td>0.042105</td>\n",
       "      <td>0.007045</td>\n",
       "      <td>0.029216</td>\n",
       "      <td>0.144812</td>\n",
       "      <td>0.642105</td>\n",
       "      <td>0.000214</td>\n",
       "    </tr>\n",
       "    <tr>\n",
       "      <th>4</th>\n",
       "      <td>0.028947</td>\n",
       "      <td>0.015315</td>\n",
       "      <td>0.000758</td>\n",
       "      <td>0.120867</td>\n",
       "      <td>0.600000</td>\n",
       "      <td>0.010111</td>\n",
       "    </tr>\n",
       "  </tbody>\n",
       "</table>\n",
       "</div>"
      ],
      "text/plain": [
       "     budget  popularity   revenue   runtime  vote_average  vote_count\n",
       "0  0.078947    0.040082  0.133988  0.092360      0.810526    0.383367\n",
       "1  0.171053    0.031075  0.094261  0.118586      0.726316    0.169610\n",
       "2  0.052632    0.021389  0.011497  0.115165      0.684211    0.004343\n",
       "3  0.042105    0.007045  0.029216  0.144812      0.642105    0.000214\n",
       "4  0.028947    0.015315  0.000758  0.120867      0.600000    0.010111"
      ]
     },
     "execution_count": 14,
     "metadata": {},
     "output_type": "execute_result"
    }
   ],
   "source": [
    "df_numeric_scaled.head()"
   ]
  },
  {
   "cell_type": "markdown",
   "metadata": {},
   "source": [
    "## Apply K-Means Clustering"
   ]
  },
  {
   "cell_type": "markdown",
   "metadata": {},
   "source": [
    "### What k to choose?\n",
    "Let's fit cluster size 1 to 20 on our data and take a look at the corresponding score value."
   ]
  },
  {
   "cell_type": "code",
   "execution_count": 15,
   "metadata": {},
   "outputs": [],
   "source": [
    "Nc = range(1, 20)\n",
    "kmeans = [KMeans(n_clusters=i) for i in Nc]"
   ]
  },
  {
   "cell_type": "code",
   "execution_count": 16,
   "metadata": {},
   "outputs": [],
   "source": [
    "score = [kmeans[i].fit(df_numeric_scaled).score(df_numeric_scaled) for i in range(len(kmeans))]"
   ]
  },
  {
   "cell_type": "markdown",
   "metadata": {},
   "source": [
    "These score values signify how far our observations are from the cluster center. We want to keep this score value around 0. A large positive or a large negative value would indicate that the cluster center is far from the observations."
   ]
  },
  {
   "cell_type": "markdown",
   "metadata": {},
   "source": [
    "Based on these scores value, we plot an Elbow curve to decide which cluster size is optimal. Note that we are dealing with tradeoff between cluster size(hence the computation required) and the relative accuracy."
   ]
  },
  {
   "cell_type": "code",
   "execution_count": 17,
   "metadata": {},
   "outputs": [
    {
     "data": {
      "image/png": "[encoded data removed]",
      "text/plain": [
       "<matplotlib.figure.Figure at 0x1fbcff92be0>"
      ]
     },
     "metadata": {},
     "output_type": "display_data"
    }
   ],
   "source": [
    "pl.plot(Nc,score)\n",
    "pl.xlabel('Number of Clusters')\n",
    "pl.ylabel('Score')\n",
    "pl.title('Elbow Curve')\n",
    "pl.show()"
   ]
  },
  {
   "cell_type": "markdown",
   "metadata": {},
   "source": [
    "Our Elbow point is around cluster size of 5. We will use k=5 to further interpret our clustering result."
   ]
  },
  {
   "cell_type": "markdown",
   "metadata": {},
   "source": [
    "### Fit K-Means clustering for k=5"
   ]
  },
  {
   "cell_type": "code",
   "execution_count": 18,
   "metadata": {},
   "outputs": [
    {
     "data": {
      "text/plain": [
       "KMeans(algorithm='auto', copy_x=True, init='k-means++', max_iter=300,\n",
       "    n_clusters=5, n_init=10, n_jobs=1, precompute_distances='auto',\n",
       "    random_state=None, tol=0.0001, verbose=0)"
      ]
     },
     "execution_count": 18,
     "metadata": {},
     "output_type": "execute_result"
    }
   ],
   "source": [
    "kmeans = KMeans(n_clusters=5)\n",
    "kmeans.fit(df_numeric_scaled)"
   ]
  },
  {
   "cell_type": "markdown",
   "metadata": {},
   "source": [
    "As a result of clustering, we have the clustering label. Let's put these labels back into the original numeric data frame."
   ]
  },
  {
   "cell_type": "code",
   "execution_count": 19,
   "metadata": {},
   "outputs": [
    {
     "data": {
      "text/plain": [
       "11346"
      ]
     },
     "execution_count": 19,
     "metadata": {},
     "output_type": "execute_result"
    }
   ],
   "source": [
    "len(kmeans.labels_)"
   ]
  },
  {
   "cell_type": "code",
   "execution_count": 20,
   "metadata": {},
   "outputs": [],
   "source": [
    "df_numeric['cluster'] = kmeans.labels_"
   ]
  },
  {
   "cell_type": "code",
   "execution_count": 21,
   "metadata": {},
   "outputs": [
    {
     "data": {
      "text/html": [
       "<div>\n",
       "<style>\n",
       "    .dataframe thead tr:only-child th {\n",
       "        text-align: right;\n",
       "    }\n",
       "\n",
       "    .dataframe thead th {\n",
       "        text-align: left;\n",
       "    }\n",
       "\n",
       "    .dataframe tbody tr th {\n",
       "        vertical-align: top;\n",
       "    }\n",
       "</style>\n",
       "<table border=\"1\" class=\"dataframe\">\n",
       "  <thead>\n",
       "    <tr style=\"text-align: right;\">\n",
       "      <th></th>\n",
       "      <th>budget</th>\n",
       "      <th>popularity</th>\n",
       "      <th>revenue</th>\n",
       "      <th>runtime</th>\n",
       "      <th>vote_average</th>\n",
       "      <th>vote_count</th>\n",
       "      <th>title</th>\n",
       "      <th>cluster</th>\n",
       "    </tr>\n",
       "  </thead>\n",
       "  <tbody>\n",
       "    <tr>\n",
       "      <th>0</th>\n",
       "      <td>30000000.0</td>\n",
       "      <td>21.946943</td>\n",
       "      <td>373554033.0</td>\n",
       "      <td>81.0</td>\n",
       "      <td>7.7</td>\n",
       "      <td>5415.0</td>\n",
       "      <td>Toy Story</td>\n",
       "      <td>1</td>\n",
       "    </tr>\n",
       "    <tr>\n",
       "      <th>1</th>\n",
       "      <td>65000000.0</td>\n",
       "      <td>17.015539</td>\n",
       "      <td>262797249.0</td>\n",
       "      <td>104.0</td>\n",
       "      <td>6.9</td>\n",
       "      <td>2413.0</td>\n",
       "      <td>Jumanji</td>\n",
       "      <td>2</td>\n",
       "    </tr>\n",
       "    <tr>\n",
       "      <th>2</th>\n",
       "      <td>20000000.0</td>\n",
       "      <td>11.712900</td>\n",
       "      <td>32051917.0</td>\n",
       "      <td>101.0</td>\n",
       "      <td>6.5</td>\n",
       "      <td>92.0</td>\n",
       "      <td>Grumpier Old Men</td>\n",
       "      <td>0</td>\n",
       "    </tr>\n",
       "    <tr>\n",
       "      <th>3</th>\n",
       "      <td>16000000.0</td>\n",
       "      <td>3.859495</td>\n",
       "      <td>81452156.0</td>\n",
       "      <td>127.0</td>\n",
       "      <td>6.1</td>\n",
       "      <td>34.0</td>\n",
       "      <td>Waiting to Exhale</td>\n",
       "      <td>0</td>\n",
       "    </tr>\n",
       "    <tr>\n",
       "      <th>4</th>\n",
       "      <td>11000000.0</td>\n",
       "      <td>8.387519</td>\n",
       "      <td>2112951.0</td>\n",
       "      <td>106.0</td>\n",
       "      <td>5.7</td>\n",
       "      <td>173.0</td>\n",
       "      <td>Father of the Bride Part II</td>\n",
       "      <td>0</td>\n",
       "    </tr>\n",
       "  </tbody>\n",
       "</table>\n",
       "</div>"
      ],
      "text/plain": [
       "       budget  popularity      revenue  runtime  vote_average  vote_count  \\\n",
       "0  30000000.0   21.946943  373554033.0     81.0           7.7      5415.0   \n",
       "1  65000000.0   17.015539  262797249.0    104.0           6.9      2413.0   \n",
       "2  20000000.0   11.712900   32051917.0    101.0           6.5        92.0   \n",
       "3  16000000.0    3.859495   81452156.0    127.0           6.1        34.0   \n",
       "4  11000000.0    8.387519    2112951.0    106.0           5.7       173.0   \n",
       "\n",
       "                         title  cluster  \n",
       "0                    Toy Story        1  \n",
       "1                      Jumanji        2  \n",
       "2             Grumpier Old Men        0  \n",
       "3            Waiting to Exhale        0  \n",
       "4  Father of the Bride Part II        0  "
      ]
     },
     "execution_count": 21,
     "metadata": {},
     "output_type": "execute_result"
    }
   ],
   "source": [
    "df_numeric.head()"
   ]
  },
  {
   "cell_type": "markdown",
   "metadata": {},
   "source": [
    "## Interpret clustering results"
   ]
  },
  {
   "cell_type": "markdown",
   "metadata": {},
   "source": [
    "Let's see cluster sizes first."
   ]
  },
  {
   "cell_type": "code",
   "execution_count": 22,
   "metadata": {},
   "outputs": [
    {
     "data": {
      "image/png": "[encoded data removed]",
      "text/plain": [
       "<matplotlib.figure.Figure at 0x1fbd01ef080>"
      ]
     },
     "metadata": {},
     "output_type": "display_data"
    }
   ],
   "source": [
    "plt.figure(figsize=(12,7))\n",
    "axis = sns.barplot(x=np.arange(0,5,1),y=df_numeric.groupby(['cluster']).count()['budget'].values)\n",
    "x=axis.set_xlabel(\"Cluster Number\")\n",
    "x=axis.set_ylabel(\"Number of movies\")"
   ]
  },
  {
   "cell_type": "markdown",
   "metadata": {},
   "source": [
    "* We see that the cluster 1 is the largest and cluster 2 has the fewest number of movies."
   ]
  },
  {
   "cell_type": "markdown",
   "metadata": {},
   "source": [
    "Let's look at the cluster statistics."
   ]
  },
  {
   "cell_type": "code",
   "execution_count": 23,
   "metadata": {},
   "outputs": [
    {
     "data": {
      "text/html": [
       "<div>\n",
       "<style>\n",
       "    .dataframe thead tr:only-child th {\n",
       "        text-align: right;\n",
       "    }\n",
       "\n",
       "    .dataframe thead th {\n",
       "        text-align: left;\n",
       "    }\n",
       "\n",
       "    .dataframe tbody tr th {\n",
       "        vertical-align: top;\n",
       "    }\n",
       "</style>\n",
       "<table border=\"1\" class=\"dataframe\">\n",
       "  <thead>\n",
       "    <tr style=\"text-align: right;\">\n",
       "      <th></th>\n",
       "      <th>budget</th>\n",
       "      <th>popularity</th>\n",
       "      <th>revenue</th>\n",
       "      <th>runtime</th>\n",
       "      <th>vote_average</th>\n",
       "      <th>vote_count</th>\n",
       "    </tr>\n",
       "    <tr>\n",
       "      <th>cluster</th>\n",
       "      <th></th>\n",
       "      <th></th>\n",
       "      <th></th>\n",
       "      <th></th>\n",
       "      <th></th>\n",
       "      <th></th>\n",
       "    </tr>\n",
       "  </thead>\n",
       "  <tbody>\n",
       "    <tr>\n",
       "      <th>0</th>\n",
       "      <td>6.551984e+06</td>\n",
       "      <td>6.782005</td>\n",
       "      <td>1.580317e+07</td>\n",
       "      <td>100.300272</td>\n",
       "      <td>6.189877</td>\n",
       "      <td>174.661598</td>\n",
       "    </tr>\n",
       "    <tr>\n",
       "      <th>1</th>\n",
       "      <td>1.450915e+08</td>\n",
       "      <td>32.203355</td>\n",
       "      <td>6.358566e+08</td>\n",
       "      <td>126.371542</td>\n",
       "      <td>6.917787</td>\n",
       "      <td>4802.359684</td>\n",
       "    </tr>\n",
       "    <tr>\n",
       "      <th>2</th>\n",
       "      <td>7.017614e+07</td>\n",
       "      <td>12.301838</td>\n",
       "      <td>1.701177e+08</td>\n",
       "      <td>114.270775</td>\n",
       "      <td>6.238095</td>\n",
       "      <td>1180.261438</td>\n",
       "    </tr>\n",
       "    <tr>\n",
       "      <th>3</th>\n",
       "      <td>8.150244e+06</td>\n",
       "      <td>6.494351</td>\n",
       "      <td>1.117758e+07</td>\n",
       "      <td>93.613295</td>\n",
       "      <td>4.937312</td>\n",
       "      <td>123.855410</td>\n",
       "    </tr>\n",
       "    <tr>\n",
       "      <th>4</th>\n",
       "      <td>4.391993e+06</td>\n",
       "      <td>7.131047</td>\n",
       "      <td>1.724838e+07</td>\n",
       "      <td>109.724051</td>\n",
       "      <td>7.285541</td>\n",
       "      <td>307.125738</td>\n",
       "    </tr>\n",
       "  </tbody>\n",
       "</table>\n",
       "</div>"
      ],
      "text/plain": [
       "               budget  popularity       revenue     runtime  vote_average  \\\n",
       "cluster                                                                     \n",
       "0        6.551984e+06    6.782005  1.580317e+07  100.300272      6.189877   \n",
       "1        1.450915e+08   32.203355  6.358566e+08  126.371542      6.917787   \n",
       "2        7.017614e+07   12.301838  1.701177e+08  114.270775      6.238095   \n",
       "3        8.150244e+06    6.494351  1.117758e+07   93.613295      4.937312   \n",
       "4        4.391993e+06    7.131047  1.724838e+07  109.724051      7.285541   \n",
       "\n",
       "          vote_count  \n",
       "cluster               \n",
       "0         174.661598  \n",
       "1        4802.359684  \n",
       "2        1180.261438  \n",
       "3         123.855410  \n",
       "4         307.125738  "
      ]
     },
     "execution_count": 23,
     "metadata": {},
     "output_type": "execute_result"
    }
   ],
   "source": [
    "df_numeric.groupby(['cluster']).mean()"
   ]
  },
  {
   "cell_type": "markdown",
   "metadata": {},
   "source": [
    "* We see that the cluster 1 (which is also the smallest), is the cluster of movies that received maximum number of votes(in terms of counts) and also have very high popularity and total runtime and net revenue. Let's see some of the movies that belong to this cluster."
   ]
  },
  {
   "cell_type": "code",
   "execution_count": 25,
   "metadata": {},
   "outputs": [
    {
     "data": {
      "text/html": [
       "<div>\n",
       "<style>\n",
       "    .dataframe thead tr:only-child th {\n",
       "        text-align: right;\n",
       "    }\n",
       "\n",
       "    .dataframe thead th {\n",
       "        text-align: left;\n",
       "    }\n",
       "\n",
       "    .dataframe tbody tr th {\n",
       "        vertical-align: top;\n",
       "    }\n",
       "</style>\n",
       "<table border=\"1\" class=\"dataframe\">\n",
       "  <thead>\n",
       "    <tr style=\"text-align: right;\">\n",
       "      <th></th>\n",
       "      <th>budget</th>\n",
       "      <th>popularity</th>\n",
       "      <th>revenue</th>\n",
       "      <th>runtime</th>\n",
       "      <th>vote_average</th>\n",
       "      <th>vote_count</th>\n",
       "      <th>title</th>\n",
       "      <th>cluster</th>\n",
       "    </tr>\n",
       "  </thead>\n",
       "  <tbody>\n",
       "    <tr>\n",
       "      <th>23686</th>\n",
       "      <td>210000000.0</td>\n",
       "      <td>18.495599</td>\n",
       "      <td>1.091405e+09</td>\n",
       "      <td>165.0</td>\n",
       "      <td>5.8</td>\n",
       "      <td>3136.0</td>\n",
       "      <td>Transformers: Age of Extinction</td>\n",
       "      <td>1</td>\n",
       "    </tr>\n",
       "    <tr>\n",
       "      <th>7320</th>\n",
       "      <td>175000000.0</td>\n",
       "      <td>15.387275</td>\n",
       "      <td>4.974099e+08</td>\n",
       "      <td>163.0</td>\n",
       "      <td>6.9</td>\n",
       "      <td>2841.0</td>\n",
       "      <td>Troy</td>\n",
       "      <td>1</td>\n",
       "    </tr>\n",
       "    <tr>\n",
       "      <th>13950</th>\n",
       "      <td>250000000.0</td>\n",
       "      <td>19.083723</td>\n",
       "      <td>9.339592e+08</td>\n",
       "      <td>153.0</td>\n",
       "      <td>7.4</td>\n",
       "      <td>5435.0</td>\n",
       "      <td>Harry Potter and the Half-Blood Prince</td>\n",
       "      <td>1</td>\n",
       "    </tr>\n",
       "    <tr>\n",
       "      <th>20048</th>\n",
       "      <td>250000000.0</td>\n",
       "      <td>23.253089</td>\n",
       "      <td>1.021104e+09</td>\n",
       "      <td>169.0</td>\n",
       "      <td>7.0</td>\n",
       "      <td>8427.0</td>\n",
       "      <td>The Hobbit: An Unexpected Journey</td>\n",
       "      <td>1</td>\n",
       "    </tr>\n",
       "    <tr>\n",
       "      <th>763</th>\n",
       "      <td>75000000.0</td>\n",
       "      <td>17.634197</td>\n",
       "      <td>8.169693e+08</td>\n",
       "      <td>145.0</td>\n",
       "      <td>6.7</td>\n",
       "      <td>3334.0</td>\n",
       "      <td>Independence Day</td>\n",
       "      <td>1</td>\n",
       "    </tr>\n",
       "  </tbody>\n",
       "</table>\n",
       "</div>"
      ],
      "text/plain": [
       "            budget  popularity       revenue  runtime  vote_average  \\\n",
       "23686  210000000.0   18.495599  1.091405e+09    165.0           5.8   \n",
       "7320   175000000.0   15.387275  4.974099e+08    163.0           6.9   \n",
       "13950  250000000.0   19.083723  9.339592e+08    153.0           7.4   \n",
       "20048  250000000.0   23.253089  1.021104e+09    169.0           7.0   \n",
       "763     75000000.0   17.634197  8.169693e+08    145.0           6.7   \n",
       "\n",
       "       vote_count                                   title  cluster  \n",
       "23686      3136.0         Transformers: Age of Extinction        1  \n",
       "7320       2841.0                                    Troy        1  \n",
       "13950      5435.0  Harry Potter and the Half-Blood Prince        1  \n",
       "20048      8427.0       The Hobbit: An Unexpected Journey        1  \n",
       "763        3334.0                        Independence Day        1  "
      ]
     },
     "execution_count": 25,
     "metadata": {},
     "output_type": "execute_result"
    }
   ],
   "source": [
    "df_numeric[df_numeric['cluster']==1].sample(5)"
   ]
  },
  {
   "cell_type": "markdown",
   "metadata": {},
   "source": [
    "We see many big movie names in this cluster. So the results are intuitive."
   ]
  },
  {
   "cell_type": "markdown",
   "metadata": {},
   "source": [
    "* Cluster 2 represents the second smallest cluster in the results and has 2nd highest votes count and the most highly rated movies. The runtime for these movies is on the higher end and popularity score is also good. Let's see some of the movie names from this cluster."
   ]
  },
  {
   "cell_type": "code",
   "execution_count": 26,
   "metadata": {},
   "outputs": [
    {
     "data": {
      "text/html": [
       "<div>\n",
       "<style>\n",
       "    .dataframe thead tr:only-child th {\n",
       "        text-align: right;\n",
       "    }\n",
       "\n",
       "    .dataframe thead th {\n",
       "        text-align: left;\n",
       "    }\n",
       "\n",
       "    .dataframe tbody tr th {\n",
       "        vertical-align: top;\n",
       "    }\n",
       "</style>\n",
       "<table border=\"1\" class=\"dataframe\">\n",
       "  <thead>\n",
       "    <tr style=\"text-align: right;\">\n",
       "      <th></th>\n",
       "      <th>budget</th>\n",
       "      <th>popularity</th>\n",
       "      <th>revenue</th>\n",
       "      <th>runtime</th>\n",
       "      <th>vote_average</th>\n",
       "      <th>vote_count</th>\n",
       "      <th>title</th>\n",
       "      <th>cluster</th>\n",
       "    </tr>\n",
       "  </thead>\n",
       "  <tbody>\n",
       "    <tr>\n",
       "      <th>15644</th>\n",
       "      <td>44000000.0</td>\n",
       "      <td>6.273131</td>\n",
       "      <td>48190704.0</td>\n",
       "      <td>99.0</td>\n",
       "      <td>6.8</td>\n",
       "      <td>589.0</td>\n",
       "      <td>Charlie St. Cloud</td>\n",
       "      <td>2</td>\n",
       "    </tr>\n",
       "    <tr>\n",
       "      <th>1575</th>\n",
       "      <td>57000000.0</td>\n",
       "      <td>10.920124</td>\n",
       "      <td>152944660.0</td>\n",
       "      <td>144.0</td>\n",
       "      <td>7.2</td>\n",
       "      <td>1414.0</td>\n",
       "      <td>The Devil's Advocate</td>\n",
       "      <td>2</td>\n",
       "    </tr>\n",
       "    <tr>\n",
       "      <th>21046</th>\n",
       "      <td>100000000.0</td>\n",
       "      <td>11.913405</td>\n",
       "      <td>268426634.0</td>\n",
       "      <td>102.0</td>\n",
       "      <td>6.4</td>\n",
       "      <td>1143.0</td>\n",
       "      <td>Epic</td>\n",
       "      <td>2</td>\n",
       "    </tr>\n",
       "    <tr>\n",
       "      <th>1337</th>\n",
       "      <td>80000000.0</td>\n",
       "      <td>15.001681</td>\n",
       "      <td>280000000.0</td>\n",
       "      <td>126.0</td>\n",
       "      <td>6.6</td>\n",
       "      <td>1706.0</td>\n",
       "      <td>Batman Returns</td>\n",
       "      <td>2</td>\n",
       "    </tr>\n",
       "    <tr>\n",
       "      <th>21007</th>\n",
       "      <td>58000000.0</td>\n",
       "      <td>0.393865</td>\n",
       "      <td>44000000.0</td>\n",
       "      <td>119.0</td>\n",
       "      <td>6.1</td>\n",
       "      <td>1691.0</td>\n",
       "      <td>The Internship</td>\n",
       "      <td>2</td>\n",
       "    </tr>\n",
       "  </tbody>\n",
       "</table>\n",
       "</div>"
      ],
      "text/plain": [
       "            budget  popularity      revenue  runtime  vote_average  \\\n",
       "15644   44000000.0    6.273131   48190704.0     99.0           6.8   \n",
       "1575    57000000.0   10.920124  152944660.0    144.0           7.2   \n",
       "21046  100000000.0   11.913405  268426634.0    102.0           6.4   \n",
       "1337    80000000.0   15.001681  280000000.0    126.0           6.6   \n",
       "21007   58000000.0    0.393865   44000000.0    119.0           6.1   \n",
       "\n",
       "       vote_count                 title  cluster  \n",
       "15644       589.0     Charlie St. Cloud        2  \n",
       "1575       1414.0  The Devil's Advocate        2  \n",
       "21046      1143.0                  Epic        2  \n",
       "1337       1706.0        Batman Returns        2  \n",
       "21007      1691.0        The Internship        2  "
      ]
     },
     "execution_count": 26,
     "metadata": {},
     "output_type": "execute_result"
    }
   ],
   "source": [
    "df_numeric[df_numeric['cluster']==2].sample(5)"
   ]
  },
  {
   "cell_type": "markdown",
   "metadata": {},
   "source": [
    "* Lastly, let's take a look at the least successful movies. Cluster 3 represents the movies that recieved least number of votes and also has the smallest runtime, revenue and popularity score."
   ]
  },
  {
   "cell_type": "code",
   "execution_count": 27,
   "metadata": {},
   "outputs": [
    {
     "data": {
      "text/html": [
       "<div>\n",
       "<style>\n",
       "    .dataframe thead tr:only-child th {\n",
       "        text-align: right;\n",
       "    }\n",
       "\n",
       "    .dataframe thead th {\n",
       "        text-align: left;\n",
       "    }\n",
       "\n",
       "    .dataframe tbody tr th {\n",
       "        vertical-align: top;\n",
       "    }\n",
       "</style>\n",
       "<table border=\"1\" class=\"dataframe\">\n",
       "  <thead>\n",
       "    <tr style=\"text-align: right;\">\n",
       "      <th></th>\n",
       "      <th>budget</th>\n",
       "      <th>popularity</th>\n",
       "      <th>revenue</th>\n",
       "      <th>runtime</th>\n",
       "      <th>vote_average</th>\n",
       "      <th>vote_count</th>\n",
       "      <th>title</th>\n",
       "      <th>cluster</th>\n",
       "    </tr>\n",
       "  </thead>\n",
       "  <tbody>\n",
       "    <tr>\n",
       "      <th>12511</th>\n",
       "      <td>25000000.0</td>\n",
       "      <td>10.510245</td>\n",
       "      <td>6673422.0</td>\n",
       "      <td>104.0</td>\n",
       "      <td>5.2</td>\n",
       "      <td>128.0</td>\n",
       "      <td>What Just Happened</td>\n",
       "      <td>3</td>\n",
       "    </tr>\n",
       "    <tr>\n",
       "      <th>8147</th>\n",
       "      <td>0.0</td>\n",
       "      <td>4.299199</td>\n",
       "      <td>0.0</td>\n",
       "      <td>106.0</td>\n",
       "      <td>4.4</td>\n",
       "      <td>59.0</td>\n",
       "      <td>The Mangler</td>\n",
       "      <td>3</td>\n",
       "    </tr>\n",
       "    <tr>\n",
       "      <th>37656</th>\n",
       "      <td>2000000.0</td>\n",
       "      <td>2.281582</td>\n",
       "      <td>0.0</td>\n",
       "      <td>81.0</td>\n",
       "      <td>5.0</td>\n",
       "      <td>33.0</td>\n",
       "      <td>Rogue River</td>\n",
       "      <td>3</td>\n",
       "    </tr>\n",
       "    <tr>\n",
       "      <th>5191</th>\n",
       "      <td>0.0</td>\n",
       "      <td>4.176478</td>\n",
       "      <td>0.0</td>\n",
       "      <td>98.0</td>\n",
       "      <td>5.1</td>\n",
       "      <td>44.0</td>\n",
       "      <td>Return of the Killer Tomatoes!</td>\n",
       "      <td>3</td>\n",
       "    </tr>\n",
       "    <tr>\n",
       "      <th>9494</th>\n",
       "      <td>130000.0</td>\n",
       "      <td>10.652818</td>\n",
       "      <td>54667954.0</td>\n",
       "      <td>79.0</td>\n",
       "      <td>5.3</td>\n",
       "      <td>320.0</td>\n",
       "      <td>Open Water</td>\n",
       "      <td>3</td>\n",
       "    </tr>\n",
       "  </tbody>\n",
       "</table>\n",
       "</div>"
      ],
      "text/plain": [
       "           budget  popularity     revenue  runtime  vote_average  vote_count  \\\n",
       "12511  25000000.0   10.510245   6673422.0    104.0           5.2       128.0   \n",
       "8147          0.0    4.299199         0.0    106.0           4.4        59.0   \n",
       "37656   2000000.0    2.281582         0.0     81.0           5.0        33.0   \n",
       "5191          0.0    4.176478         0.0     98.0           5.1        44.0   \n",
       "9494     130000.0   10.652818  54667954.0     79.0           5.3       320.0   \n",
       "\n",
       "                                title  cluster  \n",
       "12511              What Just Happened        3  \n",
       "8147                      The Mangler        3  \n",
       "37656                     Rogue River        3  \n",
       "5191   Return of the Killer Tomatoes!        3  \n",
       "9494                       Open Water        3  "
      ]
     },
     "execution_count": 27,
     "metadata": {},
     "output_type": "execute_result"
    }
   ],
   "source": [
    "df_numeric[df_numeric['cluster']==3].sample(5)"
   ]
  },
  {
   "cell_type": "markdown",
   "metadata": {},
   "source": [
    "As we can see this cluster also includes the movies for which our dataset has no information about the budget and revenue, hence there corresponding fields have 0 value in it. This pulls down the net revenue of the whole cluster. If we keep the cluster size slightly larger, we might get to see these movies clustered separately."
   ]
  },
  {
   "cell_type": "markdown",
   "metadata": {},
   "source": [
    "## Visualize clustering results using PCA"
   ]
  },
  {
   "cell_type": "markdown",
   "metadata": {},
   "source": [
    "To apply PCA, let's first normalize the numerical values in the dataset"
   ]
  },
  {
   "cell_type": "code",
   "execution_count": 28,
   "metadata": {},
   "outputs": [
    {
     "data": {
      "text/html": [
       "<div>\n",
       "<style>\n",
       "    .dataframe thead tr:only-child th {\n",
       "        text-align: right;\n",
       "    }\n",
       "\n",
       "    .dataframe thead th {\n",
       "        text-align: left;\n",
       "    }\n",
       "\n",
       "    .dataframe tbody tr th {\n",
       "        vertical-align: top;\n",
       "    }\n",
       "</style>\n",
       "<table border=\"1\" class=\"dataframe\">\n",
       "  <thead>\n",
       "    <tr style=\"text-align: right;\">\n",
       "      <th></th>\n",
       "      <th>budget</th>\n",
       "      <th>popularity</th>\n",
       "      <th>revenue</th>\n",
       "      <th>runtime</th>\n",
       "      <th>vote_average</th>\n",
       "      <th>vote_count</th>\n",
       "    </tr>\n",
       "  </thead>\n",
       "  <tbody>\n",
       "    <tr>\n",
       "      <th>0</th>\n",
       "      <td>0.078947</td>\n",
       "      <td>0.040082</td>\n",
       "      <td>0.133988</td>\n",
       "      <td>0.092360</td>\n",
       "      <td>0.810526</td>\n",
       "      <td>0.383367</td>\n",
       "    </tr>\n",
       "    <tr>\n",
       "      <th>1</th>\n",
       "      <td>0.171053</td>\n",
       "      <td>0.031075</td>\n",
       "      <td>0.094261</td>\n",
       "      <td>0.118586</td>\n",
       "      <td>0.726316</td>\n",
       "      <td>0.169610</td>\n",
       "    </tr>\n",
       "    <tr>\n",
       "      <th>2</th>\n",
       "      <td>0.052632</td>\n",
       "      <td>0.021389</td>\n",
       "      <td>0.011497</td>\n",
       "      <td>0.115165</td>\n",
       "      <td>0.684211</td>\n",
       "      <td>0.004343</td>\n",
       "    </tr>\n",
       "    <tr>\n",
       "      <th>3</th>\n",
       "      <td>0.042105</td>\n",
       "      <td>0.007045</td>\n",
       "      <td>0.029216</td>\n",
       "      <td>0.144812</td>\n",
       "      <td>0.642105</td>\n",
       "      <td>0.000214</td>\n",
       "    </tr>\n",
       "    <tr>\n",
       "      <th>4</th>\n",
       "      <td>0.028947</td>\n",
       "      <td>0.015315</td>\n",
       "      <td>0.000758</td>\n",
       "      <td>0.120867</td>\n",
       "      <td>0.600000</td>\n",
       "      <td>0.010111</td>\n",
       "    </tr>\n",
       "  </tbody>\n",
       "</table>\n",
       "</div>"
      ],
      "text/plain": [
       "     budget  popularity   revenue   runtime  vote_average  vote_count\n",
       "0  0.078947    0.040082  0.133988  0.092360      0.810526    0.383367\n",
       "1  0.171053    0.031075  0.094261  0.118586      0.726316    0.169610\n",
       "2  0.052632    0.021389  0.011497  0.115165      0.684211    0.004343\n",
       "3  0.042105    0.007045  0.029216  0.144812      0.642105    0.000214\n",
       "4  0.028947    0.015315  0.000758  0.120867      0.600000    0.010111"
      ]
     },
     "execution_count": 28,
     "metadata": {},
     "output_type": "execute_result"
    }
   ],
   "source": [
    "minmax_processed = preprocessing.MinMaxScaler().fit_transform(df_numeric.drop(['title','cluster'],axis=1))\n",
    "df_numeric_scaled = pd.DataFrame(minmax_processed, index=df_numeric.index, columns=df_numeric.columns[:-2])\n",
    "df_numeric_scaled.head()"
   ]
  },
  {
   "cell_type": "markdown",
   "metadata": {},
   "source": [
    "With PCA, let's first generate 2 principal components"
   ]
  },
  {
   "cell_type": "code",
   "execution_count": 29,
   "metadata": {},
   "outputs": [],
   "source": [
    "from sklearn.decomposition import PCA"
   ]
  },
  {
   "cell_type": "code",
   "execution_count": 30,
   "metadata": {},
   "outputs": [],
   "source": [
    "sklearn_PCA=PCA(n_components=2)"
   ]
  },
  {
   "cell_type": "code",
   "execution_count": 31,
   "metadata": {},
   "outputs": [],
   "source": [
    "sk_PCA_out = sklearn_PCA.fit_transform(df_numeric_scaled)"
   ]
  },
  {
   "cell_type": "markdown",
   "metadata": {},
   "source": [
    "We will insert the PC coordinates back into the original dataframe"
   ]
  },
  {
   "cell_type": "code",
   "execution_count": 32,
   "metadata": {},
   "outputs": [],
   "source": [
    "df_numeric[\"2PCA_1\"] = sk_PCA_out[:,0]"
   ]
  },
  {
   "cell_type": "code",
   "execution_count": 33,
   "metadata": {},
   "outputs": [],
   "source": [
    "df_numeric[\"2PCA_2\"] = sk_PCA_out[:,1]"
   ]
  },
  {
   "cell_type": "code",
   "execution_count": 34,
   "metadata": {},
   "outputs": [
    {
     "data": {
      "text/html": [
       "<div>\n",
       "<style>\n",
       "    .dataframe thead tr:only-child th {\n",
       "        text-align: right;\n",
       "    }\n",
       "\n",
       "    .dataframe thead th {\n",
       "        text-align: left;\n",
       "    }\n",
       "\n",
       "    .dataframe tbody tr th {\n",
       "        vertical-align: top;\n",
       "    }\n",
       "</style>\n",
       "<table border=\"1\" class=\"dataframe\">\n",
       "  <thead>\n",
       "    <tr style=\"text-align: right;\">\n",
       "      <th></th>\n",
       "      <th>budget</th>\n",
       "      <th>popularity</th>\n",
       "      <th>revenue</th>\n",
       "      <th>runtime</th>\n",
       "      <th>vote_average</th>\n",
       "      <th>vote_count</th>\n",
       "      <th>title</th>\n",
       "      <th>cluster</th>\n",
       "      <th>2PCA_1</th>\n",
       "      <th>2PCA_2</th>\n",
       "    </tr>\n",
       "  </thead>\n",
       "  <tbody>\n",
       "    <tr>\n",
       "      <th>0</th>\n",
       "      <td>30000000.0</td>\n",
       "      <td>21.946943</td>\n",
       "      <td>373554033.0</td>\n",
       "      <td>81.0</td>\n",
       "      <td>7.7</td>\n",
       "      <td>5415.0</td>\n",
       "      <td>Toy Story</td>\n",
       "      <td>1</td>\n",
       "      <td>0.310257</td>\n",
       "      <td>-0.062786</td>\n",
       "    </tr>\n",
       "    <tr>\n",
       "      <th>1</th>\n",
       "      <td>65000000.0</td>\n",
       "      <td>17.015539</td>\n",
       "      <td>262797249.0</td>\n",
       "      <td>104.0</td>\n",
       "      <td>6.9</td>\n",
       "      <td>2413.0</td>\n",
       "      <td>Jumanji</td>\n",
       "      <td>2</td>\n",
       "      <td>0.213872</td>\n",
       "      <td>0.020666</td>\n",
       "    </tr>\n",
       "    <tr>\n",
       "      <th>2</th>\n",
       "      <td>20000000.0</td>\n",
       "      <td>11.712900</td>\n",
       "      <td>32051917.0</td>\n",
       "      <td>101.0</td>\n",
       "      <td>6.5</td>\n",
       "      <td>92.0</td>\n",
       "      <td>Grumpier Old Men</td>\n",
       "      <td>0</td>\n",
       "      <td>0.002320</td>\n",
       "      <td>-0.014291</td>\n",
       "    </tr>\n",
       "    <tr>\n",
       "      <th>3</th>\n",
       "      <td>16000000.0</td>\n",
       "      <td>3.859495</td>\n",
       "      <td>81452156.0</td>\n",
       "      <td>127.0</td>\n",
       "      <td>6.1</td>\n",
       "      <td>34.0</td>\n",
       "      <td>Waiting to Exhale</td>\n",
       "      <td>0</td>\n",
       "      <td>-0.015273</td>\n",
       "      <td>0.020022</td>\n",
       "    </tr>\n",
       "    <tr>\n",
       "      <th>4</th>\n",
       "      <td>11000000.0</td>\n",
       "      <td>8.387519</td>\n",
       "      <td>2112951.0</td>\n",
       "      <td>106.0</td>\n",
       "      <td>5.7</td>\n",
       "      <td>173.0</td>\n",
       "      <td>Father of the Bride Part II</td>\n",
       "      <td>0</td>\n",
       "      <td>-0.046533</td>\n",
       "      <td>0.051766</td>\n",
       "    </tr>\n",
       "  </tbody>\n",
       "</table>\n",
       "</div>"
      ],
      "text/plain": [
       "       budget  popularity      revenue  runtime  vote_average  vote_count  \\\n",
       "0  30000000.0   21.946943  373554033.0     81.0           7.7      5415.0   \n",
       "1  65000000.0   17.015539  262797249.0    104.0           6.9      2413.0   \n",
       "2  20000000.0   11.712900   32051917.0    101.0           6.5        92.0   \n",
       "3  16000000.0    3.859495   81452156.0    127.0           6.1        34.0   \n",
       "4  11000000.0    8.387519    2112951.0    106.0           5.7       173.0   \n",
       "\n",
       "                         title  cluster    2PCA_1    2PCA_2  \n",
       "0                    Toy Story        1  0.310257 -0.062786  \n",
       "1                      Jumanji        2  0.213872  0.020666  \n",
       "2             Grumpier Old Men        0  0.002320 -0.014291  \n",
       "3            Waiting to Exhale        0 -0.015273  0.020022  \n",
       "4  Father of the Bride Part II        0 -0.046533  0.051766  "
      ]
     },
     "execution_count": 34,
     "metadata": {},
     "output_type": "execute_result"
    }
   ],
   "source": [
    "df_numeric.head()"
   ]
  },
  {
   "cell_type": "markdown",
   "metadata": {},
   "source": [
    "### Visualize K-Means clustering results on 2 principal component axes"
   ]
  },
  {
   "cell_type": "code",
   "execution_count": 35,
   "metadata": {},
   "outputs": [
    {
     "data": {
      "image/png": "[encoded data removed]",
      "text/plain": [
       "<matplotlib.figure.Figure at 0x1fbd0287748>"
      ]
     },
     "metadata": {},
     "output_type": "display_data"
    }
   ],
   "source": [
    "x=sns.lmplot(x='2PCA_1',y='2PCA_2',hue='cluster',data=df_numeric,fit_reg=False)"
   ]
  },
  {
   "cell_type": "markdown",
   "metadata": {},
   "source": [
    "We can also use plot.ly to plot the same output"
   ]
  },
  {
   "cell_type": "code",
   "execution_count": 36,
   "metadata": {},
   "outputs": [],
   "source": [
    "import plotly.plotly as py\n",
    "import plotly.graph_objs as go"
   ]
  },
  {
   "cell_type": "code",
   "execution_count": 37,
   "metadata": {},
   "outputs": [
    {
     "data": {
      "text/html": [
       "<iframe id=\"igraph\" scrolling=\"no\" style=\"border:none;\" seamless=\"seamless\" src=\"https://plot.ly/~sam.sumitkumar/24.embed\" height=\"525px\" width=\"100%\"></iframe>"
      ],
      "text/plain": [
       "<plotly.tools.PlotlyDisplay object>"
      ]
     },
     "execution_count": 37,
     "metadata": {},
     "output_type": "execute_result"
    }
   ],
   "source": [
    "traces = []\n",
    "\n",
    "for name in sorted(list(df_numeric['cluster'].unique())):\n",
    "\n",
    "    trace = go.Scatter(\n",
    "        x=df_numeric['2PCA_1'][df_numeric['cluster']==name],\n",
    "        y=df_numeric['2PCA_2'][df_numeric['cluster']==name],\n",
    "        mode='markers',\n",
    "        name=\"Cluster \"+str(name),\n",
    "        marker=go.Marker(\n",
    "            size=12,\n",
    "            line=go.Line(\n",
    "                color='rgba(217, 217, 217, 0.14)',\n",
    "                width=0.5),\n",
    "            opacity=0.8))\n",
    "    traces.append(trace)\n",
    "\n",
    "\n",
    "data = go.Data(traces)\n",
    "layout = go.Layout(showlegend=True,\n",
    "                scene=go.Scene(xaxis=go.XAxis(title='PC1'),\n",
    "                yaxis=go.YAxis(title='PC2'),))\n",
    "\n",
    "fig = go.Figure(data=data, layout=layout)\n",
    "py.iplot(fig)"
   ]
  },
  {
   "cell_type": "markdown",
   "metadata": {},
   "source": [
    "Let's run PCA again, but for 3 Principal Components"
   ]
  },
  {
   "cell_type": "code",
   "execution_count": 38,
   "metadata": {},
   "outputs": [],
   "source": [
    "sklearn_PCA=PCA(n_components=3)\n",
    "sk_PCA_out = sklearn_PCA.fit_transform(df_numeric_scaled)\n",
    "df_numeric[\"3PCA_1\"] = sk_PCA_out[:,0]\n",
    "df_numeric[\"3PCA_2\"] = sk_PCA_out[:,1]\n",
    "df_numeric[\"3PCA_3\"] = sk_PCA_out[:,2]"
   ]
  },
  {
   "cell_type": "code",
   "execution_count": 39,
   "metadata": {},
   "outputs": [
    {
     "data": {
      "text/html": [
       "<div>\n",
       "<style>\n",
       "    .dataframe thead tr:only-child th {\n",
       "        text-align: right;\n",
       "    }\n",
       "\n",
       "    .dataframe thead th {\n",
       "        text-align: left;\n",
       "    }\n",
       "\n",
       "    .dataframe tbody tr th {\n",
       "        vertical-align: top;\n",
       "    }\n",
       "</style>\n",
       "<table border=\"1\" class=\"dataframe\">\n",
       "  <thead>\n",
       "    <tr style=\"text-align: right;\">\n",
       "      <th></th>\n",
       "      <th>budget</th>\n",
       "      <th>popularity</th>\n",
       "      <th>revenue</th>\n",
       "      <th>runtime</th>\n",
       "      <th>vote_average</th>\n",
       "      <th>vote_count</th>\n",
       "      <th>title</th>\n",
       "      <th>cluster</th>\n",
       "      <th>2PCA_1</th>\n",
       "      <th>2PCA_2</th>\n",
       "      <th>3PCA_1</th>\n",
       "      <th>3PCA_2</th>\n",
       "      <th>3PCA_3</th>\n",
       "    </tr>\n",
       "  </thead>\n",
       "  <tbody>\n",
       "    <tr>\n",
       "      <th>0</th>\n",
       "      <td>30000000.0</td>\n",
       "      <td>21.946943</td>\n",
       "      <td>373554033.0</td>\n",
       "      <td>81.0</td>\n",
       "      <td>7.7</td>\n",
       "      <td>5415.0</td>\n",
       "      <td>Toy Story</td>\n",
       "      <td>1</td>\n",
       "      <td>0.310257</td>\n",
       "      <td>-0.062786</td>\n",
       "      <td>0.310257</td>\n",
       "      <td>-0.062786</td>\n",
       "      <td>0.251216</td>\n",
       "    </tr>\n",
       "    <tr>\n",
       "      <th>1</th>\n",
       "      <td>65000000.0</td>\n",
       "      <td>17.015539</td>\n",
       "      <td>262797249.0</td>\n",
       "      <td>104.0</td>\n",
       "      <td>6.9</td>\n",
       "      <td>2413.0</td>\n",
       "      <td>Jumanji</td>\n",
       "      <td>2</td>\n",
       "      <td>0.213872</td>\n",
       "      <td>0.020666</td>\n",
       "      <td>0.213872</td>\n",
       "      <td>0.020666</td>\n",
       "      <td>0.036025</td>\n",
       "    </tr>\n",
       "    <tr>\n",
       "      <th>2</th>\n",
       "      <td>20000000.0</td>\n",
       "      <td>11.712900</td>\n",
       "      <td>32051917.0</td>\n",
       "      <td>101.0</td>\n",
       "      <td>6.5</td>\n",
       "      <td>92.0</td>\n",
       "      <td>Grumpier Old Men</td>\n",
       "      <td>0</td>\n",
       "      <td>0.002320</td>\n",
       "      <td>-0.014291</td>\n",
       "      <td>0.002320</td>\n",
       "      <td>-0.014291</td>\n",
       "      <td>-0.025705</td>\n",
       "    </tr>\n",
       "    <tr>\n",
       "      <th>3</th>\n",
       "      <td>16000000.0</td>\n",
       "      <td>3.859495</td>\n",
       "      <td>81452156.0</td>\n",
       "      <td>127.0</td>\n",
       "      <td>6.1</td>\n",
       "      <td>34.0</td>\n",
       "      <td>Waiting to Exhale</td>\n",
       "      <td>0</td>\n",
       "      <td>-0.015273</td>\n",
       "      <td>0.020022</td>\n",
       "      <td>-0.015273</td>\n",
       "      <td>0.020022</td>\n",
       "      <td>-0.020967</td>\n",
       "    </tr>\n",
       "    <tr>\n",
       "      <th>4</th>\n",
       "      <td>11000000.0</td>\n",
       "      <td>8.387519</td>\n",
       "      <td>2112951.0</td>\n",
       "      <td>106.0</td>\n",
       "      <td>5.7</td>\n",
       "      <td>173.0</td>\n",
       "      <td>Father of the Bride Part II</td>\n",
       "      <td>0</td>\n",
       "      <td>-0.046533</td>\n",
       "      <td>0.051766</td>\n",
       "      <td>-0.046533</td>\n",
       "      <td>0.051766</td>\n",
       "      <td>0.000052</td>\n",
       "    </tr>\n",
       "  </tbody>\n",
       "</table>\n",
       "</div>"
      ],
      "text/plain": [
       "       budget  popularity      revenue  runtime  vote_average  vote_count  \\\n",
       "0  30000000.0   21.946943  373554033.0     81.0           7.7      5415.0   \n",
       "1  65000000.0   17.015539  262797249.0    104.0           6.9      2413.0   \n",
       "2  20000000.0   11.712900   32051917.0    101.0           6.5        92.0   \n",
       "3  16000000.0    3.859495   81452156.0    127.0           6.1        34.0   \n",
       "4  11000000.0    8.387519    2112951.0    106.0           5.7       173.0   \n",
       "\n",
       "                         title  cluster    2PCA_1    2PCA_2    3PCA_1  \\\n",
       "0                    Toy Story        1  0.310257 -0.062786  0.310257   \n",
       "1                      Jumanji        2  0.213872  0.020666  0.213872   \n",
       "2             Grumpier Old Men        0  0.002320 -0.014291  0.002320   \n",
       "3            Waiting to Exhale        0 -0.015273  0.020022 -0.015273   \n",
       "4  Father of the Bride Part II        0 -0.046533  0.051766 -0.046533   \n",
       "\n",
       "     3PCA_2    3PCA_3  \n",
       "0 -0.062786  0.251216  \n",
       "1  0.020666  0.036025  \n",
       "2 -0.014291 -0.025705  \n",
       "3  0.020022 -0.020967  \n",
       "4  0.051766  0.000052  "
      ]
     },
     "execution_count": 39,
     "metadata": {},
     "output_type": "execute_result"
    }
   ],
   "source": [
    "df_numeric.head()"
   ]
  },
  {
   "cell_type": "code",
   "execution_count": 40,
   "metadata": {},
   "outputs": [],
   "source": [
    "df_plot = df_numeric.drop([\"3PCA_1\",\"3PCA_2\",\"3PCA_3\",\"2PCA_1\",\"2PCA_2\",\"title\"],axis=1)"
   ]
  },
  {
   "cell_type": "markdown",
   "metadata": {},
   "source": [
    "### Visualize K-Means clustering results on 3 principal component axes"
   ]
  },
  {
   "cell_type": "markdown",
   "metadata": {},
   "source": [
    "Prepapre data for plot.ly's 3d scatter plot"
   ]
  },
  {
   "cell_type": "code",
   "execution_count": 41,
   "metadata": {},
   "outputs": [],
   "source": [
    "cluster0 = go.Scatter3d(\n",
    "    x=df_numeric['3PCA_1'][df_numeric['cluster']==0],\n",
    "    y=df_numeric['3PCA_2'][df_numeric['cluster']==0],\n",
    "    z=df_numeric['3PCA_3'][df_numeric['cluster']==0],\n",
    "    mode='markers',\n",
    "    marker=dict(\n",
    "        color='rgb(127, 127, 127)',\n",
    "        size=12,\n",
    "        line=dict(\n",
    "            color='rgba(217, 217, 217, 0.14)',\n",
    "            width=0.5\n",
    "        ),\n",
    "        opacity=0.8\n",
    "    )\n",
    ")"
   ]
  },
  {
   "cell_type": "code",
   "execution_count": 42,
   "metadata": {},
   "outputs": [],
   "source": [
    "cluster1 = go.Scatter3d(\n",
    "    x=df_numeric['3PCA_1'][df_numeric['cluster']==1],\n",
    "    y=df_numeric['3PCA_2'][df_numeric['cluster']==1],\n",
    "    z=df_numeric['3PCA_3'][df_numeric['cluster']==1],\n",
    "    mode='markers',\n",
    "    marker=dict(\n",
    "        color='rgb(144,190,43)',\n",
    "        size=12,\n",
    "        line=dict(\n",
    "            color='rgba(195,157,108, 0.14)',\n",
    "            width=0.5\n",
    "        ),\n",
    "        opacity=0.8\n",
    "    )\n",
    ")"
   ]
  },
  {
   "cell_type": "code",
   "execution_count": 43,
   "metadata": {},
   "outputs": [],
   "source": [
    "cluster2 = go.Scatter3d(\n",
    "    x=df_numeric['3PCA_1'][df_numeric['cluster']==2],\n",
    "    y=df_numeric['3PCA_2'][df_numeric['cluster']==2],\n",
    "    z=df_numeric['3PCA_3'][df_numeric['cluster']==2],\n",
    "    mode='markers',\n",
    "    marker=dict(\n",
    "        color='rgb(195,193,47)',\n",
    "        size=12,\n",
    "        line=dict(\n",
    "            color='rgba(63,108,242, 0.14)',\n",
    "            width=0.5\n",
    "        ),\n",
    "        opacity=0.8\n",
    "    )\n",
    ")"
   ]
  },
  {
   "cell_type": "code",
   "execution_count": 44,
   "metadata": {},
   "outputs": [],
   "source": [
    "cluster3 = go.Scatter3d(\n",
    "    x=df_numeric['3PCA_1'][df_numeric['cluster']==3],\n",
    "    y=df_numeric['3PCA_2'][df_numeric['cluster']==3],\n",
    "    z=df_numeric['3PCA_3'][df_numeric['cluster']==3],\n",
    "    mode='markers',\n",
    "    marker=dict(\n",
    "        color='rgb(147,225,106)',\n",
    "        size=12,\n",
    "        line=dict(\n",
    "            color='rgba(196,107,151, 0.14)',\n",
    "            width=0.5\n",
    "        ),\n",
    "        opacity=0.8\n",
    "    )\n",
    ")"
   ]
  },
  {
   "cell_type": "code",
   "execution_count": 45,
   "metadata": {},
   "outputs": [],
   "source": [
    "cluster4 = go.Scatter3d(\n",
    "    x=df_numeric['3PCA_1'][df_numeric['cluster']==4],\n",
    "    y=df_numeric['3PCA_2'][df_numeric['cluster']==4],\n",
    "    z=df_numeric['3PCA_3'][df_numeric['cluster']==4],\n",
    "    mode='markers',\n",
    "    marker=dict(\n",
    "        color='rgb(141,167,145)',\n",
    "        size=12,\n",
    "        line=dict(\n",
    "            color='rgba(129,120,31, 0.14)',\n",
    "            width=0.5\n",
    "        ),\n",
    "        opacity=0.8\n",
    "    )\n",
    ")"
   ]
  },
  {
   "cell_type": "code",
   "execution_count": 46,
   "metadata": {},
   "outputs": [
    {
     "data": {
      "text/html": [
       "<iframe id=\"igraph\" scrolling=\"no\" style=\"border:none;\" seamless=\"seamless\" src=\"https://plot.ly/~sam.sumitkumar/18.embed\" height=\"525px\" width=\"100%\"></iframe>"
      ],
      "text/plain": [
       "<plotly.tools.PlotlyDisplay object>"
      ]
     },
     "execution_count": 46,
     "metadata": {},
     "output_type": "execute_result"
    }
   ],
   "source": [
    "data = [cluster0,cluster1,cluster2,cluster3,cluster4]\n",
    "layout = go.Layout(\n",
    "    margin=dict(\n",
    "        l=0,\n",
    "        r=0,\n",
    "        b=0,\n",
    "        t=0\n",
    "    )\n",
    ")\n",
    "fig = go.Figure(data=data, layout=layout)\n",
    "py.iplot(fig, filename='simple-3d-scatter')"
   ]
  }
 ],
 "metadata": {
  "kernelspec": {
   "display_name": "Python [conda env:Anaconda3]",
   "language": "python",
   "name": "conda-env-Anaconda3-py"
  },
  "language_info": {
   "codemirror_mode": {
    "name": "ipython",
    "version": 3
   },
   "file_extension": ".py",
   "mimetype": "text/x-python",
   "name": "python",
   "nbconvert_exporter": "python",
   "pygments_lexer": "ipython3",
   "version": "3.6.3"
  }
 },
 "nbformat": 4,
 "nbformat_minor": 2
}
