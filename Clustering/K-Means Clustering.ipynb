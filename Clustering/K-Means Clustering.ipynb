{
 "cells": [
  {
   "cell_type": "code",
   "execution_count": 192,
   "metadata": {},
   "outputs": [],
   "source": [
    "import numpy as np\n",
    "import pandas as pd\n",
    "import pylab as pl\n",
    "from sklearn.cluster import KMeans\n",
    "from sklearn.decomposition import PCA\n",
    "import matplotlib.pyplot as plt\n",
    "import seaborn as sns\n",
    "%matplotlib inline"
   ]
  },
  {
   "cell_type": "markdown",
   "metadata": {},
   "source": [
    "Read the movies metadata csv file"
   ]
  },
  {
   "cell_type": "code",
   "execution_count": 193,
   "metadata": {},
   "outputs": [
    {
     "name": "stderr",
     "output_type": "stream",
     "text": [
      "C:\\Users\\samsu\\Anaconda3\\lib\\site-packages\\IPython\\core\\interactiveshell.py:2728: DtypeWarning: Columns (46) have mixed types. Specify dtype option on import or set low_memory=False.\n",
      "  interactivity=interactivity, compiler=compiler, result=result)\n"
     ]
    }
   ],
   "source": [
    "df = pd.read_csv(\"../Data Exploration and Preparation/master_data_with_imputed_budget_and_revenue.csv\")"
   ]
  },
  {
   "cell_type": "markdown",
   "metadata": {},
   "source": [
    "Only keep the numeric columns for our analysis. However, we'll keep titles also to interpret the results at the end of clustering. Note that this title column will not be used in the analysis."
   ]
  },
  {
   "cell_type": "code",
   "execution_count": 194,
   "metadata": {},
   "outputs": [],
   "source": [
    "df_numeric = df[['budget','popularity','revenue','runtime','vote_average','vote_count','title']]"
   ]
  },
  {
   "cell_type": "code",
   "execution_count": 195,
   "metadata": {},
   "outputs": [
    {
     "data": {
      "text/html": [
       "<div>\n",
       "<style>\n",
       "    .dataframe thead tr:only-child th {\n",
       "        text-align: right;\n",
       "    }\n",
       "\n",
       "    .dataframe thead th {\n",
       "        text-align: left;\n",
       "    }\n",
       "\n",
       "    .dataframe tbody tr th {\n",
       "        vertical-align: top;\n",
       "    }\n",
       "</style>\n",
       "<table border=\"1\" class=\"dataframe\">\n",
       "  <thead>\n",
       "    <tr style=\"text-align: right;\">\n",
       "      <th></th>\n",
       "      <th>budget</th>\n",
       "      <th>popularity</th>\n",
       "      <th>revenue</th>\n",
       "      <th>runtime</th>\n",
       "      <th>vote_average</th>\n",
       "      <th>vote_count</th>\n",
       "      <th>title</th>\n",
       "    </tr>\n",
       "  </thead>\n",
       "  <tbody>\n",
       "    <tr>\n",
       "      <th>0</th>\n",
       "      <td>30000000.0</td>\n",
       "      <td>21.946943</td>\n",
       "      <td>373554033.0</td>\n",
       "      <td>81.0</td>\n",
       "      <td>7.7</td>\n",
       "      <td>5415.0</td>\n",
       "      <td>Toy Story</td>\n",
       "    </tr>\n",
       "    <tr>\n",
       "      <th>1</th>\n",
       "      <td>65000000.0</td>\n",
       "      <td>17.015539</td>\n",
       "      <td>262797249.0</td>\n",
       "      <td>104.0</td>\n",
       "      <td>6.9</td>\n",
       "      <td>2413.0</td>\n",
       "      <td>Jumanji</td>\n",
       "    </tr>\n",
       "    <tr>\n",
       "      <th>2</th>\n",
       "      <td>20000000.0</td>\n",
       "      <td>11.712900</td>\n",
       "      <td>32051917.0</td>\n",
       "      <td>101.0</td>\n",
       "      <td>6.5</td>\n",
       "      <td>92.0</td>\n",
       "      <td>Grumpier Old Men</td>\n",
       "    </tr>\n",
       "    <tr>\n",
       "      <th>3</th>\n",
       "      <td>16000000.0</td>\n",
       "      <td>3.859495</td>\n",
       "      <td>81452156.0</td>\n",
       "      <td>127.0</td>\n",
       "      <td>6.1</td>\n",
       "      <td>34.0</td>\n",
       "      <td>Waiting to Exhale</td>\n",
       "    </tr>\n",
       "    <tr>\n",
       "      <th>4</th>\n",
       "      <td>11000000.0</td>\n",
       "      <td>8.387519</td>\n",
       "      <td>2112951.0</td>\n",
       "      <td>106.0</td>\n",
       "      <td>5.7</td>\n",
       "      <td>173.0</td>\n",
       "      <td>Father of the Bride Part II</td>\n",
       "    </tr>\n",
       "  </tbody>\n",
       "</table>\n",
       "</div>"
      ],
      "text/plain": [
       "       budget  popularity      revenue  runtime  vote_average  vote_count  \\\n",
       "0  30000000.0   21.946943  373554033.0     81.0           7.7      5415.0   \n",
       "1  65000000.0   17.015539  262797249.0    104.0           6.9      2413.0   \n",
       "2  20000000.0   11.712900   32051917.0    101.0           6.5        92.0   \n",
       "3  16000000.0    3.859495   81452156.0    127.0           6.1        34.0   \n",
       "4  11000000.0    8.387519    2112951.0    106.0           5.7       173.0   \n",
       "\n",
       "                         title  \n",
       "0                    Toy Story  \n",
       "1                      Jumanji  \n",
       "2             Grumpier Old Men  \n",
       "3            Waiting to Exhale  \n",
       "4  Father of the Bride Part II  "
      ]
     },
     "execution_count": 195,
     "metadata": {},
     "output_type": "execute_result"
    }
   ],
   "source": [
    "df_numeric.head()"
   ]
  },
  {
   "cell_type": "markdown",
   "metadata": {},
   "source": [
    "Check if rows contain any null values"
   ]
  },
  {
   "cell_type": "code",
   "execution_count": 196,
   "metadata": {},
   "outputs": [
    {
     "data": {
      "text/plain": [
       "budget          1534\n",
       "popularity         3\n",
       "revenue         1537\n",
       "runtime          260\n",
       "vote_average       3\n",
       "vote_count         3\n",
       "title              3\n",
       "dtype: int64"
      ]
     },
     "execution_count": 196,
     "metadata": {},
     "output_type": "execute_result"
    }
   ],
   "source": [
    "df_numeric.isnull().sum()"
   ]
  },
  {
   "cell_type": "markdown",
   "metadata": {},
   "source": [
    "Drop all the rows with null values"
   ]
  },
  {
   "cell_type": "code",
   "execution_count": 197,
   "metadata": {},
   "outputs": [
    {
     "name": "stderr",
     "output_type": "stream",
     "text": [
      "C:\\Users\\samsu\\Anaconda3\\lib\\site-packages\\ipykernel\\__main__.py:1: SettingWithCopyWarning: \n",
      "A value is trying to be set on a copy of a slice from a DataFrame\n",
      "\n",
      "See the caveats in the documentation: http://pandas.pydata.org/pandas-docs/stable/indexing.html#indexing-view-versus-copy\n",
      "  if __name__ == '__main__':\n"
     ]
    }
   ],
   "source": [
    "df_numeric.dropna(inplace=True)"
   ]
  },
  {
   "cell_type": "markdown",
   "metadata": {},
   "source": [
    "Let's see the statistics for the votes counts for the movies data"
   ]
  },
  {
   "cell_type": "code",
   "execution_count": 198,
   "metadata": {},
   "outputs": [
    {
     "data": {
      "text/plain": [
       "count    43744.000000\n",
       "mean       110.948473\n",
       "std        499.853244\n",
       "min          0.000000\n",
       "25%          3.000000\n",
       "50%          9.000000\n",
       "75%         32.000000\n",
       "max      14075.000000\n",
       "Name: vote_count, dtype: float64"
      ]
     },
     "execution_count": 198,
     "metadata": {},
     "output_type": "execute_result"
    }
   ],
   "source": [
    "df_numeric['vote_count'].describe()"
   ]
  },
  {
   "cell_type": "markdown",
   "metadata": {},
   "source": [
    "We see that a half of movies have been rated less than 10 times. For easier interpretability, let's take only the movies that have more than 30 votes, i.e. top 26% of the movies."
   ]
  },
  {
   "cell_type": "code",
   "execution_count": 199,
   "metadata": {},
   "outputs": [
    {
     "data": {
      "text/plain": [
       "0.74      30.00\n",
       "0.75      32.00\n",
       "0.76      35.00\n",
       "0.77      37.00\n",
       "0.78      40.00\n",
       "0.79      43.00\n",
       "0.80      47.00\n",
       "0.81      51.00\n",
       "0.82      57.00\n",
       "0.83      62.00\n",
       "0.84      70.00\n",
       "0.85      77.00\n",
       "0.86      87.00\n",
       "0.87      99.00\n",
       "0.88     113.00\n",
       "0.89     133.00\n",
       "0.90     156.00\n",
       "0.91     188.00\n",
       "0.92     227.00\n",
       "0.93     280.00\n",
       "0.94     348.42\n",
       "0.95     441.00\n",
       "0.96     596.28\n",
       "0.97     848.00\n",
       "0.98    1280.56\n",
       "0.99    2299.85\n",
       "Name: vote_count, dtype: float64"
      ]
     },
     "execution_count": 199,
     "metadata": {},
     "output_type": "execute_result"
    }
   ],
   "source": [
    "df_numeric['vote_count'].quantile(np.arange(.74,1,0.01))"
   ]
  },
  {
   "cell_type": "code",
   "execution_count": 200,
   "metadata": {},
   "outputs": [],
   "source": [
    "df_numeric = df_numeric[df_numeric['vote_count']>30]"
   ]
  },
  {
   "cell_type": "code",
   "execution_count": 201,
   "metadata": {},
   "outputs": [
    {
     "data": {
      "text/plain": [
       "(11346, 7)"
      ]
     },
     "execution_count": 201,
     "metadata": {},
     "output_type": "execute_result"
    }
   ],
   "source": [
    "df_numeric.shape"
   ]
  },
  {
   "cell_type": "markdown",
   "metadata": {},
   "source": [
    "## Normalize data\n",
    "Normalize the data with MinMax scaling provided by sklearn"
   ]
  },
  {
   "cell_type": "code",
   "execution_count": 202,
   "metadata": {},
   "outputs": [],
   "source": [
    "from sklearn import preprocessing"
   ]
  },
  {
   "cell_type": "code",
   "execution_count": 203,
   "metadata": {},
   "outputs": [],
   "source": [
    "minmax_processed = preprocessing.MinMaxScaler().fit_transform(df_numeric.drop('title',axis=1))"
   ]
  },
  {
   "cell_type": "code",
   "execution_count": 204,
   "metadata": {},
   "outputs": [],
   "source": [
    "df_numeric_scaled = pd.DataFrame(minmax_processed, index=df_numeric.index, columns=df_numeric.columns[:-1])"
   ]
  },
  {
   "cell_type": "code",
   "execution_count": 205,
   "metadata": {},
   "outputs": [
    {
     "data": {
      "text/html": [
       "<div>\n",
       "<style>\n",
       "    .dataframe thead tr:only-child th {\n",
       "        text-align: right;\n",
       "    }\n",
       "\n",
       "    .dataframe thead th {\n",
       "        text-align: left;\n",
       "    }\n",
       "\n",
       "    .dataframe tbody tr th {\n",
       "        vertical-align: top;\n",
       "    }\n",
       "</style>\n",
       "<table border=\"1\" class=\"dataframe\">\n",
       "  <thead>\n",
       "    <tr style=\"text-align: right;\">\n",
       "      <th></th>\n",
       "      <th>budget</th>\n",
       "      <th>popularity</th>\n",
       "      <th>revenue</th>\n",
       "      <th>runtime</th>\n",
       "      <th>vote_average</th>\n",
       "      <th>vote_count</th>\n",
       "    </tr>\n",
       "  </thead>\n",
       "  <tbody>\n",
       "    <tr>\n",
       "      <th>0</th>\n",
       "      <td>0.078947</td>\n",
       "      <td>0.040082</td>\n",
       "      <td>0.133988</td>\n",
       "      <td>0.092360</td>\n",
       "      <td>0.810526</td>\n",
       "      <td>0.383367</td>\n",
       "    </tr>\n",
       "    <tr>\n",
       "      <th>1</th>\n",
       "      <td>0.171053</td>\n",
       "      <td>0.031075</td>\n",
       "      <td>0.094261</td>\n",
       "      <td>0.118586</td>\n",
       "      <td>0.726316</td>\n",
       "      <td>0.169610</td>\n",
       "    </tr>\n",
       "    <tr>\n",
       "      <th>2</th>\n",
       "      <td>0.052632</td>\n",
       "      <td>0.021389</td>\n",
       "      <td>0.011497</td>\n",
       "      <td>0.115165</td>\n",
       "      <td>0.684211</td>\n",
       "      <td>0.004343</td>\n",
       "    </tr>\n",
       "    <tr>\n",
       "      <th>3</th>\n",
       "      <td>0.042105</td>\n",
       "      <td>0.007045</td>\n",
       "      <td>0.029216</td>\n",
       "      <td>0.144812</td>\n",
       "      <td>0.642105</td>\n",
       "      <td>0.000214</td>\n",
       "    </tr>\n",
       "    <tr>\n",
       "      <th>4</th>\n",
       "      <td>0.028947</td>\n",
       "      <td>0.015315</td>\n",
       "      <td>0.000758</td>\n",
       "      <td>0.120867</td>\n",
       "      <td>0.600000</td>\n",
       "      <td>0.010111</td>\n",
       "    </tr>\n",
       "  </tbody>\n",
       "</table>\n",
       "</div>"
      ],
      "text/plain": [
       "     budget  popularity   revenue   runtime  vote_average  vote_count\n",
       "0  0.078947    0.040082  0.133988  0.092360      0.810526    0.383367\n",
       "1  0.171053    0.031075  0.094261  0.118586      0.726316    0.169610\n",
       "2  0.052632    0.021389  0.011497  0.115165      0.684211    0.004343\n",
       "3  0.042105    0.007045  0.029216  0.144812      0.642105    0.000214\n",
       "4  0.028947    0.015315  0.000758  0.120867      0.600000    0.010111"
      ]
     },
     "execution_count": 205,
     "metadata": {},
     "output_type": "execute_result"
    }
   ],
   "source": [
    "df_numeric_scaled.head()"
   ]
  },
  {
   "cell_type": "markdown",
   "metadata": {},
   "source": [
    "## Apply K-Means Clustering"
   ]
  },
  {
   "cell_type": "markdown",
   "metadata": {},
   "source": [
    "### What k to choose?\n",
    "Let's fit cluster size 1 to 20 on our data and take a look at the corresponding score value."
   ]
  },
  {
   "cell_type": "code",
   "execution_count": 206,
   "metadata": {},
   "outputs": [],
   "source": [
    "Nc = range(1, 20)\n",
    "kmeans = [KMeans(n_clusters=i) for i in Nc]"
   ]
  },
  {
   "cell_type": "code",
   "execution_count": 207,
   "metadata": {},
   "outputs": [],
   "source": [
    "score = [kmeans[i].fit(df_numeric_scaled).score(df_numeric_scaled) for i in range(len(kmeans))]"
   ]
  },
  {
   "cell_type": "markdown",
   "metadata": {},
   "source": [
    "These score values signify how far our observations are from the cluster center. We want to keep this score value around 0. A large positive or a large negative value would indicate that the cluster center is far from the observations."
   ]
  },
  {
   "cell_type": "markdown",
   "metadata": {},
   "source": [
    "Based on these scores value, we plot an Elbow curve to decide which cluster size is optimal. Note that we are dealing with tradeoff between cluster size(hence the computation required) and the relative accuracy."
   ]
  },
  {
   "cell_type": "code",
   "execution_count": 178,
   "metadata": {},
   "outputs": [
    {
     "data": {
      "image/png": "[encoded data removed]",
      "text/plain": [
       "<matplotlib.figure.Figure at 0x273f59012e8>"
      ]
     },
     "metadata": {},
     "output_type": "display_data"
    }
   ],
   "source": [
    "pl.plot(Nc,score)\n",
    "pl.xlabel('Number of Clusters')\n",
    "pl.ylabel('Score')\n",
    "pl.title('Elbow Curve')\n",
    "pl.show()"
   ]
  },
  {
   "cell_type": "markdown",
   "metadata": {},
   "source": [
    "Our Elbow point is around cluster size of 5. We will use k=5 to further interpret our clustering result."
   ]
  },
  {
   "cell_type": "markdown",
   "metadata": {},
   "source": [
    "### Fit K-Means clustering for k=5"
   ]
  },
  {
   "cell_type": "code",
   "execution_count": 179,
   "metadata": {},
   "outputs": [
    {
     "data": {
      "text/plain": [
       "KMeans(algorithm='auto', copy_x=True, init='k-means++', max_iter=300,\n",
       "    n_clusters=5, n_init=10, n_jobs=1, precompute_distances='auto',\n",
       "    random_state=None, tol=0.0001, verbose=0)"
      ]
     },
     "execution_count": 179,
     "metadata": {},
     "output_type": "execute_result"
    }
   ],
   "source": [
    "kmeans = KMeans(n_clusters=5)\n",
    "kmeans.fit(df_numeric_scaled)"
   ]
  },
  {
   "cell_type": "markdown",
   "metadata": {},
   "source": [
    "As a result of clustering, we have the clustering label. Let's put these labels back into the original numeric data frame."
   ]
  },
  {
   "cell_type": "code",
   "execution_count": 180,
   "metadata": {},
   "outputs": [
    {
     "data": {
      "text/plain": [
       "11346"
      ]
     },
     "execution_count": 180,
     "metadata": {},
     "output_type": "execute_result"
    }
   ],
   "source": [
    "len(kmeans.labels_)"
   ]
  },
  {
   "cell_type": "code",
   "execution_count": 181,
   "metadata": {},
   "outputs": [],
   "source": [
    "df_numeric['cluster'] = kmeans.labels_"
   ]
  },
  {
   "cell_type": "code",
   "execution_count": 182,
   "metadata": {},
   "outputs": [
    {
     "data": {
      "text/html": [
       "<div>\n",
       "<style>\n",
       "    .dataframe thead tr:only-child th {\n",
       "        text-align: right;\n",
       "    }\n",
       "\n",
       "    .dataframe thead th {\n",
       "        text-align: left;\n",
       "    }\n",
       "\n",
       "    .dataframe tbody tr th {\n",
       "        vertical-align: top;\n",
       "    }\n",
       "</style>\n",
       "<table border=\"1\" class=\"dataframe\">\n",
       "  <thead>\n",
       "    <tr style=\"text-align: right;\">\n",
       "      <th></th>\n",
       "      <th>budget</th>\n",
       "      <th>popularity</th>\n",
       "      <th>revenue</th>\n",
       "      <th>runtime</th>\n",
       "      <th>vote_average</th>\n",
       "      <th>vote_count</th>\n",
       "      <th>title</th>\n",
       "      <th>cluster</th>\n",
       "    </tr>\n",
       "  </thead>\n",
       "  <tbody>\n",
       "    <tr>\n",
       "      <th>0</th>\n",
       "      <td>30000000.0</td>\n",
       "      <td>21.946943</td>\n",
       "      <td>373554033.0</td>\n",
       "      <td>81.0</td>\n",
       "      <td>7.7</td>\n",
       "      <td>5415.0</td>\n",
       "      <td>Toy Story</td>\n",
       "      <td>4</td>\n",
       "    </tr>\n",
       "    <tr>\n",
       "      <th>1</th>\n",
       "      <td>65000000.0</td>\n",
       "      <td>17.015539</td>\n",
       "      <td>262797249.0</td>\n",
       "      <td>104.0</td>\n",
       "      <td>6.9</td>\n",
       "      <td>2413.0</td>\n",
       "      <td>Jumanji</td>\n",
       "      <td>1</td>\n",
       "    </tr>\n",
       "    <tr>\n",
       "      <th>2</th>\n",
       "      <td>20000000.0</td>\n",
       "      <td>11.712900</td>\n",
       "      <td>32051917.0</td>\n",
       "      <td>101.0</td>\n",
       "      <td>6.5</td>\n",
       "      <td>92.0</td>\n",
       "      <td>Grumpier Old Men</td>\n",
       "      <td>0</td>\n",
       "    </tr>\n",
       "    <tr>\n",
       "      <th>3</th>\n",
       "      <td>16000000.0</td>\n",
       "      <td>3.859495</td>\n",
       "      <td>81452156.0</td>\n",
       "      <td>127.0</td>\n",
       "      <td>6.1</td>\n",
       "      <td>34.0</td>\n",
       "      <td>Waiting to Exhale</td>\n",
       "      <td>0</td>\n",
       "    </tr>\n",
       "    <tr>\n",
       "      <th>4</th>\n",
       "      <td>11000000.0</td>\n",
       "      <td>8.387519</td>\n",
       "      <td>2112951.0</td>\n",
       "      <td>106.0</td>\n",
       "      <td>5.7</td>\n",
       "      <td>173.0</td>\n",
       "      <td>Father of the Bride Part II</td>\n",
       "      <td>0</td>\n",
       "    </tr>\n",
       "  </tbody>\n",
       "</table>\n",
       "</div>"
      ],
      "text/plain": [
       "       budget  popularity      revenue  runtime  vote_average  vote_count  \\\n",
       "0  30000000.0   21.946943  373554033.0     81.0           7.7      5415.0   \n",
       "1  65000000.0   17.015539  262797249.0    104.0           6.9      2413.0   \n",
       "2  20000000.0   11.712900   32051917.0    101.0           6.5        92.0   \n",
       "3  16000000.0    3.859495   81452156.0    127.0           6.1        34.0   \n",
       "4  11000000.0    8.387519    2112951.0    106.0           5.7       173.0   \n",
       "\n",
       "                         title  cluster  \n",
       "0                    Toy Story        4  \n",
       "1                      Jumanji        1  \n",
       "2             Grumpier Old Men        0  \n",
       "3            Waiting to Exhale        0  \n",
       "4  Father of the Bride Part II        0  "
      ]
     },
     "execution_count": 182,
     "metadata": {},
     "output_type": "execute_result"
    }
   ],
   "source": [
    "df_numeric.head()"
   ]
  },
  {
   "cell_type": "markdown",
   "metadata": {},
   "source": [
    "## Interpret clustering results"
   ]
  },
  {
   "cell_type": "markdown",
   "metadata": {},
   "source": [
    "Let's see cluster sizes first."
   ]
  },
  {
   "cell_type": "code",
   "execution_count": 187,
   "metadata": {},
   "outputs": [
    {
     "data": {
      "image/png": "[encoded data removed]",
      "text/plain": [
       "<matplotlib.figure.Figure at 0x273f5b94898>"
      ]
     },
     "metadata": {},
     "output_type": "display_data"
    }
   ],
   "source": [
    "plt.figure(figsize=(12,7))\n",
    "axis = sns.barplot(x=np.arange(0,5,1),y=df_numeric.groupby(['cluster']).count()['budget'].values)\n",
    "x=axis.set_xlabel(\"Cluster Number\")\n",
    "x=axis.set_ylabel(\"Number of movies\")"
   ]
  },
  {
   "cell_type": "markdown",
   "metadata": {},
   "source": [
    "We see that the cluste 3 is the largest and cluster 5 has the fewest number of movies."
   ]
  },
  {
   "cell_type": "markdown",
   "metadata": {},
   "source": [
    "Let's look at the cluster statistics."
   ]
  },
  {
   "cell_type": "code",
   "execution_count": 184,
   "metadata": {},
   "outputs": [
    {
     "data": {
      "text/html": [
       "<div>\n",
       "<style>\n",
       "    .dataframe thead tr:only-child th {\n",
       "        text-align: right;\n",
       "    }\n",
       "\n",
       "    .dataframe thead th {\n",
       "        text-align: left;\n",
       "    }\n",
       "\n",
       "    .dataframe tbody tr th {\n",
       "        vertical-align: top;\n",
       "    }\n",
       "</style>\n",
       "<table border=\"1\" class=\"dataframe\">\n",
       "  <thead>\n",
       "    <tr style=\"text-align: right;\">\n",
       "      <th></th>\n",
       "      <th>budget</th>\n",
       "      <th>popularity</th>\n",
       "      <th>revenue</th>\n",
       "      <th>runtime</th>\n",
       "      <th>vote_average</th>\n",
       "      <th>vote_count</th>\n",
       "    </tr>\n",
       "    <tr>\n",
       "      <th>cluster</th>\n",
       "      <th></th>\n",
       "      <th></th>\n",
       "      <th></th>\n",
       "      <th></th>\n",
       "      <th></th>\n",
       "      <th></th>\n",
       "    </tr>\n",
       "  </thead>\n",
       "  <tbody>\n",
       "    <tr>\n",
       "      <th>0</th>\n",
       "      <td>6.621613e+06</td>\n",
       "      <td>6.788629</td>\n",
       "      <td>1.598563e+07</td>\n",
       "      <td>100.314991</td>\n",
       "      <td>6.189583</td>\n",
       "      <td>175.999774</td>\n",
       "    </tr>\n",
       "    <tr>\n",
       "      <th>1</th>\n",
       "      <td>7.076426e+07</td>\n",
       "      <td>12.336747</td>\n",
       "      <td>1.718702e+08</td>\n",
       "      <td>114.390772</td>\n",
       "      <td>6.241714</td>\n",
       "      <td>1191.122411</td>\n",
       "    </tr>\n",
       "    <tr>\n",
       "      <th>2</th>\n",
       "      <td>8.199444e+06</td>\n",
       "      <td>6.499695</td>\n",
       "      <td>1.136439e+07</td>\n",
       "      <td>93.612888</td>\n",
       "      <td>4.937984</td>\n",
       "      <td>124.839632</td>\n",
       "    </tr>\n",
       "    <tr>\n",
       "      <th>3</th>\n",
       "      <td>4.398463e+06</td>\n",
       "      <td>7.132190</td>\n",
       "      <td>1.721649e+07</td>\n",
       "      <td>109.727145</td>\n",
       "      <td>7.285654</td>\n",
       "      <td>306.974965</td>\n",
       "    </tr>\n",
       "    <tr>\n",
       "      <th>4</th>\n",
       "      <td>1.453540e+08</td>\n",
       "      <td>32.487739</td>\n",
       "      <td>6.396472e+08</td>\n",
       "      <td>126.562249</td>\n",
       "      <td>6.928916</td>\n",
       "      <td>4837.598394</td>\n",
       "    </tr>\n",
       "  </tbody>\n",
       "</table>\n",
       "</div>"
      ],
      "text/plain": [
       "               budget  popularity       revenue     runtime  vote_average  \\\n",
       "cluster                                                                     \n",
       "0        6.621613e+06    6.788629  1.598563e+07  100.314991      6.189583   \n",
       "1        7.076426e+07   12.336747  1.718702e+08  114.390772      6.241714   \n",
       "2        8.199444e+06    6.499695  1.136439e+07   93.612888      4.937984   \n",
       "3        4.398463e+06    7.132190  1.721649e+07  109.727145      7.285654   \n",
       "4        1.453540e+08   32.487739  6.396472e+08  126.562249      6.928916   \n",
       "\n",
       "          vote_count  \n",
       "cluster               \n",
       "0         175.999774  \n",
       "1        1191.122411  \n",
       "2         124.839632  \n",
       "3         306.974965  \n",
       "4        4837.598394  "
      ]
     },
     "execution_count": 184,
     "metadata": {},
     "output_type": "execute_result"
    }
   ],
   "source": [
    "df_numeric.groupby(['cluster']).mean()"
   ]
  },
  {
   "cell_type": "markdown",
   "metadata": {},
   "source": [
    "* We see that the cluster 4 (which is also the smallest), is the cluster of movies that received maximum number of votes(in terms of counts) and also have very high popularity and total runtime and net revenue. Let's see some of the movies that belong to this cluster."
   ]
  },
  {
   "cell_type": "code",
   "execution_count": 188,
   "metadata": {},
   "outputs": [
    {
     "data": {
      "text/html": [
       "<div>\n",
       "<style>\n",
       "    .dataframe thead tr:only-child th {\n",
       "        text-align: right;\n",
       "    }\n",
       "\n",
       "    .dataframe thead th {\n",
       "        text-align: left;\n",
       "    }\n",
       "\n",
       "    .dataframe tbody tr th {\n",
       "        vertical-align: top;\n",
       "    }\n",
       "</style>\n",
       "<table border=\"1\" class=\"dataframe\">\n",
       "  <thead>\n",
       "    <tr style=\"text-align: right;\">\n",
       "      <th></th>\n",
       "      <th>budget</th>\n",
       "      <th>popularity</th>\n",
       "      <th>revenue</th>\n",
       "      <th>runtime</th>\n",
       "      <th>vote_average</th>\n",
       "      <th>vote_count</th>\n",
       "      <th>title</th>\n",
       "      <th>cluster</th>\n",
       "    </tr>\n",
       "  </thead>\n",
       "  <tbody>\n",
       "    <tr>\n",
       "      <th>20604</th>\n",
       "      <td>195000000.0</td>\n",
       "      <td>11.606061</td>\n",
       "      <td>1.976876e+08</td>\n",
       "      <td>114.0</td>\n",
       "      <td>5.5</td>\n",
       "      <td>2634.0</td>\n",
       "      <td>Jack the Giant Slayer</td>\n",
       "      <td>4</td>\n",
       "    </tr>\n",
       "    <tr>\n",
       "      <th>42246</th>\n",
       "      <td>97000000.0</td>\n",
       "      <td>54.581997</td>\n",
       "      <td>6.168018e+08</td>\n",
       "      <td>137.0</td>\n",
       "      <td>7.6</td>\n",
       "      <td>6310.0</td>\n",
       "      <td>Logan</td>\n",
       "      <td>4</td>\n",
       "    </tr>\n",
       "    <tr>\n",
       "      <th>26645</th>\n",
       "      <td>230000000.0</td>\n",
       "      <td>133.827820</td>\n",
       "      <td>7.941920e+08</td>\n",
       "      <td>129.0</td>\n",
       "      <td>6.6</td>\n",
       "      <td>2814.0</td>\n",
       "      <td>Pirates of the Caribbean: Dead Men Tell No Tales</td>\n",
       "      <td>4</td>\n",
       "    </tr>\n",
       "    <tr>\n",
       "      <th>36332</th>\n",
       "      <td>150000000.0</td>\n",
       "      <td>26.024868</td>\n",
       "      <td>1.023784e+09</td>\n",
       "      <td>108.0</td>\n",
       "      <td>7.7</td>\n",
       "      <td>4961.0</td>\n",
       "      <td>Zootopia</td>\n",
       "      <td>4</td>\n",
       "    </tr>\n",
       "    <tr>\n",
       "      <th>15218</th>\n",
       "      <td>200000000.0</td>\n",
       "      <td>19.083344</td>\n",
       "      <td>6.239333e+08</td>\n",
       "      <td>124.0</td>\n",
       "      <td>6.6</td>\n",
       "      <td>6969.0</td>\n",
       "      <td>Iron Man 2</td>\n",
       "      <td>4</td>\n",
       "    </tr>\n",
       "  </tbody>\n",
       "</table>\n",
       "</div>"
      ],
      "text/plain": [
       "            budget  popularity       revenue  runtime  vote_average  \\\n",
       "20604  195000000.0   11.606061  1.976876e+08    114.0           5.5   \n",
       "42246   97000000.0   54.581997  6.168018e+08    137.0           7.6   \n",
       "26645  230000000.0  133.827820  7.941920e+08    129.0           6.6   \n",
       "36332  150000000.0   26.024868  1.023784e+09    108.0           7.7   \n",
       "15218  200000000.0   19.083344  6.239333e+08    124.0           6.6   \n",
       "\n",
       "       vote_count                                             title  cluster  \n",
       "20604      2634.0                             Jack the Giant Slayer        4  \n",
       "42246      6310.0                                             Logan        4  \n",
       "26645      2814.0  Pirates of the Caribbean: Dead Men Tell No Tales        4  \n",
       "36332      4961.0                                          Zootopia        4  \n",
       "15218      6969.0                                        Iron Man 2        4  "
      ]
     },
     "execution_count": 188,
     "metadata": {},
     "output_type": "execute_result"
    }
   ],
   "source": [
    "df_numeric[df_numeric['cluster']==4].sample(5)"
   ]
  },
  {
   "cell_type": "markdown",
   "metadata": {},
   "source": [
    "We see many big movie names in this cluster. So the results are intuitive."
   ]
  },
  {
   "cell_type": "markdown",
   "metadata": {},
   "source": [
    "* Cluster 1 represents the second smallest cluster in the results and has 2nd highest votes count and the most highly rated movies. The runtime for these movies is on the higher end and popularity score is also good. Let's see some of the movie names from this cluster."
   ]
  },
  {
   "cell_type": "code",
   "execution_count": 190,
   "metadata": {},
   "outputs": [
    {
     "data": {
      "text/html": [
       "<div>\n",
       "<style>\n",
       "    .dataframe thead tr:only-child th {\n",
       "        text-align: right;\n",
       "    }\n",
       "\n",
       "    .dataframe thead th {\n",
       "        text-align: left;\n",
       "    }\n",
       "\n",
       "    .dataframe tbody tr th {\n",
       "        vertical-align: top;\n",
       "    }\n",
       "</style>\n",
       "<table border=\"1\" class=\"dataframe\">\n",
       "  <thead>\n",
       "    <tr style=\"text-align: right;\">\n",
       "      <th></th>\n",
       "      <th>budget</th>\n",
       "      <th>popularity</th>\n",
       "      <th>revenue</th>\n",
       "      <th>runtime</th>\n",
       "      <th>vote_average</th>\n",
       "      <th>vote_count</th>\n",
       "      <th>title</th>\n",
       "      <th>cluster</th>\n",
       "    </tr>\n",
       "  </thead>\n",
       "  <tbody>\n",
       "    <tr>\n",
       "      <th>4253</th>\n",
       "      <td>115000000.0</td>\n",
       "      <td>15.851722</td>\n",
       "      <td>274703340.0</td>\n",
       "      <td>100.0</td>\n",
       "      <td>5.7</td>\n",
       "      <td>2235.0</td>\n",
       "      <td>Lara Croft: Tomb Raider</td>\n",
       "      <td>1</td>\n",
       "    </tr>\n",
       "    <tr>\n",
       "      <th>4772</th>\n",
       "      <td>75000000.0</td>\n",
       "      <td>6.353996</td>\n",
       "      <td>54249294.0</td>\n",
       "      <td>89.0</td>\n",
       "      <td>5.4</td>\n",
       "      <td>115.0</td>\n",
       "      <td>Domestic Disturbance</td>\n",
       "      <td>1</td>\n",
       "    </tr>\n",
       "    <tr>\n",
       "      <th>10680</th>\n",
       "      <td>70000000.0</td>\n",
       "      <td>9.668761</td>\n",
       "      <td>130358911.0</td>\n",
       "      <td>164.0</td>\n",
       "      <td>7.0</td>\n",
       "      <td>706.0</td>\n",
       "      <td>Munich</td>\n",
       "      <td>1</td>\n",
       "    </tr>\n",
       "    <tr>\n",
       "      <th>43306</th>\n",
       "      <td>69000000.0</td>\n",
       "      <td>35.637691</td>\n",
       "      <td>177856751.0</td>\n",
       "      <td>116.0</td>\n",
       "      <td>6.1</td>\n",
       "      <td>1829.0</td>\n",
       "      <td>Baywatch</td>\n",
       "      <td>1</td>\n",
       "    </tr>\n",
       "    <tr>\n",
       "      <th>10513</th>\n",
       "      <td>50000000.0</td>\n",
       "      <td>6.572049</td>\n",
       "      <td>8342132.0</td>\n",
       "      <td>99.0</td>\n",
       "      <td>6.5</td>\n",
       "      <td>346.0</td>\n",
       "      <td>Stay</td>\n",
       "      <td>1</td>\n",
       "    </tr>\n",
       "  </tbody>\n",
       "</table>\n",
       "</div>"
      ],
      "text/plain": [
       "            budget  popularity      revenue  runtime  vote_average  \\\n",
       "4253   115000000.0   15.851722  274703340.0    100.0           5.7   \n",
       "4772    75000000.0    6.353996   54249294.0     89.0           5.4   \n",
       "10680   70000000.0    9.668761  130358911.0    164.0           7.0   \n",
       "43306   69000000.0   35.637691  177856751.0    116.0           6.1   \n",
       "10513   50000000.0    6.572049    8342132.0     99.0           6.5   \n",
       "\n",
       "       vote_count                    title  cluster  \n",
       "4253       2235.0  Lara Croft: Tomb Raider        1  \n",
       "4772        115.0     Domestic Disturbance        1  \n",
       "10680       706.0                   Munich        1  \n",
       "43306      1829.0                 Baywatch        1  \n",
       "10513       346.0                     Stay        1  "
      ]
     },
     "execution_count": 190,
     "metadata": {},
     "output_type": "execute_result"
    }
   ],
   "source": [
    "df_numeric[df_numeric['cluster']==1].sample(5)"
   ]
  },
  {
   "cell_type": "markdown",
   "metadata": {},
   "source": [
    "* Lastly, let's take a look at the least successful movies. Cluster 2 represents the movies that recieved least number of votes and also has the smallest runtime, revenue and popularity score."
   ]
  },
  {
   "cell_type": "code",
   "execution_count": 191,
   "metadata": {},
   "outputs": [
    {
     "data": {
      "text/html": [
       "<div>\n",
       "<style>\n",
       "    .dataframe thead tr:only-child th {\n",
       "        text-align: right;\n",
       "    }\n",
       "\n",
       "    .dataframe thead th {\n",
       "        text-align: left;\n",
       "    }\n",
       "\n",
       "    .dataframe tbody tr th {\n",
       "        vertical-align: top;\n",
       "    }\n",
       "</style>\n",
       "<table border=\"1\" class=\"dataframe\">\n",
       "  <thead>\n",
       "    <tr style=\"text-align: right;\">\n",
       "      <th></th>\n",
       "      <th>budget</th>\n",
       "      <th>popularity</th>\n",
       "      <th>revenue</th>\n",
       "      <th>runtime</th>\n",
       "      <th>vote_average</th>\n",
       "      <th>vote_count</th>\n",
       "      <th>title</th>\n",
       "      <th>cluster</th>\n",
       "    </tr>\n",
       "  </thead>\n",
       "  <tbody>\n",
       "    <tr>\n",
       "      <th>22654</th>\n",
       "      <td>2000000.0</td>\n",
       "      <td>3.880541</td>\n",
       "      <td>48390.0</td>\n",
       "      <td>91.0</td>\n",
       "      <td>5.5</td>\n",
       "      <td>38.0</td>\n",
       "      <td>Decoding Annie Parker</td>\n",
       "      <td>2</td>\n",
       "    </tr>\n",
       "    <tr>\n",
       "      <th>31151</th>\n",
       "      <td>27000000.0</td>\n",
       "      <td>2.183423</td>\n",
       "      <td>0.0</td>\n",
       "      <td>109.0</td>\n",
       "      <td>4.8</td>\n",
       "      <td>34.0</td>\n",
       "      <td>The Lovers</td>\n",
       "      <td>2</td>\n",
       "    </tr>\n",
       "    <tr>\n",
       "      <th>6651</th>\n",
       "      <td>0.0</td>\n",
       "      <td>4.640429</td>\n",
       "      <td>0.0</td>\n",
       "      <td>96.0</td>\n",
       "      <td>4.6</td>\n",
       "      <td>34.0</td>\n",
       "      <td>National Lampoon Presents Dorm Daze</td>\n",
       "      <td>2</td>\n",
       "    </tr>\n",
       "    <tr>\n",
       "      <th>25797</th>\n",
       "      <td>0.0</td>\n",
       "      <td>2.814458</td>\n",
       "      <td>0.0</td>\n",
       "      <td>85.0</td>\n",
       "      <td>4.6</td>\n",
       "      <td>60.0</td>\n",
       "      <td>Finders Keepers</td>\n",
       "      <td>2</td>\n",
       "    </tr>\n",
       "    <tr>\n",
       "      <th>43001</th>\n",
       "      <td>0.0</td>\n",
       "      <td>6.891989</td>\n",
       "      <td>0.0</td>\n",
       "      <td>57.0</td>\n",
       "      <td>4.3</td>\n",
       "      <td>37.0</td>\n",
       "      <td>Amy Schumer: The Leather Special</td>\n",
       "      <td>2</td>\n",
       "    </tr>\n",
       "  </tbody>\n",
       "</table>\n",
       "</div>"
      ],
      "text/plain": [
       "           budget  popularity  revenue  runtime  vote_average  vote_count  \\\n",
       "22654   2000000.0    3.880541  48390.0     91.0           5.5        38.0   \n",
       "31151  27000000.0    2.183423      0.0    109.0           4.8        34.0   \n",
       "6651          0.0    4.640429      0.0     96.0           4.6        34.0   \n",
       "25797         0.0    2.814458      0.0     85.0           4.6        60.0   \n",
       "43001         0.0    6.891989      0.0     57.0           4.3        37.0   \n",
       "\n",
       "                                     title  cluster  \n",
       "22654                Decoding Annie Parker        2  \n",
       "31151                           The Lovers        2  \n",
       "6651   National Lampoon Presents Dorm Daze        2  \n",
       "25797                      Finders Keepers        2  \n",
       "43001     Amy Schumer: The Leather Special        2  "
      ]
     },
     "execution_count": 191,
     "metadata": {},
     "output_type": "execute_result"
    }
   ],
   "source": [
    "df_numeric[df_numeric['cluster']==2].sample(5)"
   ]
  },
  {
   "cell_type": "markdown",
   "metadata": {},
   "source": [
    "As we can see this cluster also includes the movies for which our dataset has no information about the budget and revenue, hence there corresponding fields have 0 value in it. This pulls down the net revenue of the whole cluster. If we keep the cluster size slightly larger, we might get to see these movies clustered separately."
   ]
  }
 ],
 "metadata": {
  "kernelspec": {
   "display_name": "Python [conda env:Anaconda3]",
   "language": "python",
   "name": "conda-env-Anaconda3-py"
  },
  "language_info": {
   "codemirror_mode": {
    "name": "ipython",
    "version": 3
   },
   "file_extension": ".py",
   "mimetype": "text/x-python",
   "name": "python",
   "nbconvert_exporter": "python",
   "pygments_lexer": "ipython3",
   "version": "3.6.3"
  }
 },
 "nbformat": 4,
 "nbformat_minor": 2
}
